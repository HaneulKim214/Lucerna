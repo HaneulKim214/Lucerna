{
 "cells": [
  {
   "cell_type": "code",
   "execution_count": 1,
   "id": "79b1832e-0917-4735-8938-0bc52f0f745f",
   "metadata": {},
   "outputs": [],
   "source": [
    "import ast, os, re, time\n",
    "import requests\n",
    "import numpy as np\n",
    "import pandas as pd\n",
    "import plotly.graph_objects as go\n",
    "import yfinance as yf\n",
    "\n",
    "from IPython.display import Markdown, display\n",
    "from datetime import timedelta, datetime, date\n",
    "from util import validate_dates\n",
    "\n",
    "from plots import create_candlestick_chart\n",
    "from lucerna import Lucerna"
   ]
  },
  {
   "cell_type": "code",
   "execution_count": 16,
   "id": "887d27fc-f0dc-44b2-a2b2-98cf7cc5a02d",
   "metadata": {},
   "outputs": [],
   "source": [
    "import prompts.prompt_templates as pt"
   ]
  },
  {
   "cell_type": "code",
   "execution_count": 3,
   "id": "75d0f014-3d78-484b-a36f-7ef39cbd124c",
   "metadata": {},
   "outputs": [
    {
     "data": {
      "text/plain": [
       "'0.2.59'"
      ]
     },
     "execution_count": 3,
     "metadata": {},
     "output_type": "execute_result"
    }
   ],
   "source": [
    "yf.__version__"
   ]
  },
  {
   "cell_type": "markdown",
   "id": "f0ad1351-4765-4dc1-adb4-25985b5535c4",
   "metadata": {},
   "source": [
    "## Utils"
   ]
  },
  {
   "cell_type": "code",
   "execution_count": 4,
   "id": "d5de6901-0d1e-4ee7-b920-bda8c61daa39",
   "metadata": {},
   "outputs": [],
   "source": [
    "\n",
    "\"\"\"\n",
    "References:\n",
    "- https://gist.github.com/leftmove/dd9d981c8c37983f61e423a45085e063#file-ticker-py-L1\n",
    "\n",
    "\n",
    "\"\"\"\n",
    "def fill_dates(df, fill_value=np.nan):\n",
    "    \"\"\"\n",
    "    Fill datetime index of a dataframe with fill_value.\n",
    "    \n",
    "    parameters\n",
    "    ----------\n",
    "    df: pd.DataFrame with datetime index\n",
    "    fill_value: Value to fill columns that gets created. \n",
    "    \"\"\"\n",
    "    if not isinstance(df.index, pd.DatetimeIndex):\n",
    "        raise TypeError(\"Dataframe should have datetime index\")\n",
    "    idx = pd.date_range(df.index[0], df.index[-1])\n",
    "    df = df.reindex(idx, fill_value=np.nan)\n",
    "    return df\n",
    "\n",
    "def get_ticker(company_name):\n",
    "    \"\"\"\n",
    "    Given name of the company, return symbol and stock exchange code.\n",
    "    *Caveat: This is performing raw api call meaning it could break anytime yahoo\n",
    "    financial changes its code.\n",
    "    \n",
    "    parameters\n",
    "    ----------\n",
    "    company_name: str\n",
    "    \"\"\"\n",
    "    yfinance = \"https://query2.finance.yahoo.com/v1/finance/search\"\n",
    "    # Sets a fake browser User-Agent string.\n",
    "    # Some public APIs (like Yahoo's) block or limit access from non-browser clients \n",
    "    # (like Python scripts).\n",
    "    user_agent = 'Mozilla/5.0 (Windows NT 10.0; Win64; x64) AppleWebKit/537.36 (KHTML, like Gecko) Chrome/108.0.0.0 Safari/537.36'\n",
    "    params = {\"q\": company_name, \"quotes_count\": 1, \"country\": \"United States\"}\n",
    "    \n",
    "    res = requests.get(url=yfinance, params=params, headers={'User-Agent': user_agent})\n",
    "    data = res.json()\n",
    "    return data['quotes'][0]['symbol']"
   ]
  },
  {
   "cell_type": "markdown",
   "id": "9a1bc977-e279-4f2a-961b-4fab36a815cf",
   "metadata": {},
   "source": [
    "## Fundamantal_analysis py"
   ]
  },
  {
   "cell_type": "code",
   "execution_count": 5,
   "id": "bec5ad70-9649-4b02-95c0-3af31aa7f583",
   "metadata": {},
   "outputs": [],
   "source": [
    "def get_stock_price(ticker, st_date, end_date, interval='1d', timezone=False):\n",
    "    stock_price_df = ticker.history(start=st_date, end=end_date, interval='1d')\n",
    "    if not timezone:\n",
    "        stock_price_df.index = stock_price_df.index.tz_localize(None)\n",
    "    return stock_price_df"
   ]
  },
  {
   "cell_type": "code",
   "execution_count": 94,
   "id": "c96c473f-e24a-4408-9561-52dd14527f6d",
   "metadata": {},
   "outputs": [],
   "source": [
    "def get_per_df(ticker, stock_price_df, net_income, share_issued):\n",
    "    \"\"\"\n",
    "    PER\n",
    "    - share price should be after earnings report shift(-1) so that price is adjusted with new earnings info.\n",
    "\n",
    "\n",
    "    parameters\n",
    "    ----------\n",
    "    net_income: pd.Series\n",
    "    share_issued: pd.Series\n",
    "    \n",
    "    \"\"\"\n",
    "    # I am assuming shareIssued same as previous if NaN.\n",
    "    def _fillna(series, method='bfill'):\n",
    "        old_n_nan_rows = series.isna().sum()\n",
    "        filled_series = series.bfill()\n",
    "        print(f'# of filled recent rows: {old_n_nan_rows - filled_series.isna().sum()}')\n",
    "        return filled_series\n",
    "    \n",
    "    eps_df = pd.DataFrame({\"net_income\":net_income, \"share_issued\":_fillna(share_issued)})\n",
    "    eps_df['eps'] = eps_df['net_income'] / eps_df['share_issued']\n",
    "\n",
    "    # fill non-market day with NaN. This is to easily combine price data with financials.\n",
    "    df = fill_dates(stock_price_df.copy())\n",
    "    df['Close_t+1'] = df['Close'].shift(-1).bfill()\n",
    "    per_df = pd.merge(eps_df, df[['Close_t+1']], how='left',left_index=True, right_index=True)\n",
    "    per_df['per'] = per_df['Close_t+1'] / per_df['eps']\n",
    "    return per_df.sort_index()"
   ]
  },
  {
   "cell_type": "markdown",
   "id": "04b55141-f5cb-4093-b0c6-546336ff77a6",
   "metadata": {},
   "source": [
    "# One stock analysis"
   ]
  },
  {
   "cell_type": "markdown",
   "id": "7aa05b29-a9e1-4cd2-8ba9-e3f6fc6bbb34",
   "metadata": {},
   "source": [
    "- LG energy solution: 373220.KS\n",
    "- Samsung Electronics: 005930.KS\n",
    "- Intel: INTC\n",
    "- Alphabet: GOOG\n",
    "- Air Canada: AC.TO\n",
    "\n",
    "- LS group: 006260.KS"
   ]
  },
  {
   "cell_type": "code",
   "execution_count": 7,
   "id": "c03a0c94-d0ca-43d4-b527-165605063c5c",
   "metadata": {},
   "outputs": [
    {
     "name": "stdout",
     "output_type": "stream",
     "text": [
      "Welcome, I am Lucerna, your customized investment advisor!\n"
     ]
    },
    {
     "name": "stdin",
     "output_type": "stream",
     "text": [
      "What company would you like to know about. Provide ticker symbol: 373220.KS\n"
     ]
    },
    {
     "name": "stdout",
     "output_type": "stream",
     "text": [
      "\n",
      "You've selected LG Energy Solution, Ltd. to be analyzed.\n"
     ]
    }
   ],
   "source": [
    "print(\"Welcome, I am Lucerna, your customized investment advisor!\")\n",
    "ticker = input(\"What company would you like to know about. Provide ticker symbol:\")\n",
    "ticker = yf.Ticker(ticker)\n",
    "\n",
    "stock_info = {\n",
    "    \"company_name\": ticker.info['longName']\n",
    "    ,\"country\": ticker.info['country']\n",
    "    ,\"sector\": ticker.info['sector']\n",
    "    ,\"industry\": ticker.info['industry']\n",
    "    ,\"business_summary\": ticker.info['longBusinessSummary']\n",
    "    ,\"currency\": ticker.info['financialCurrency']\n",
    "    ,\"stock_exch\": ticker.info['fullExchangeName']}\n",
    "\n",
    "print()\n",
    "print(f\"You've selected {stock_info['company_name']} to be analyzed.\")"
   ]
  },
  {
   "cell_type": "code",
   "execution_count": 8,
   "id": "ec3e700f-37a5-4296-a7e8-ed71fba8d3a4",
   "metadata": {},
   "outputs": [],
   "source": [
    "n_years = 3\n",
    "end_date = date.today()\n",
    "st_date = end_date - timedelta(days=365*n_years)"
   ]
  },
  {
   "cell_type": "code",
   "execution_count": 9,
   "id": "d3362966-84d2-4675-a3d8-b72f3b383b7e",
   "metadata": {},
   "outputs": [],
   "source": [
    "stock_price_df = get_stock_price(ticker, st_date, end_date, interval='1d', timezone=False)"
   ]
  },
  {
   "cell_type": "code",
   "execution_count": 44,
   "id": "d6013678-45f4-4ada-8574-9308fe27210a",
   "metadata": {},
   "outputs": [],
   "source": [
    "stock_info['price_df'] = stock_price_df"
   ]
  },
  {
   "cell_type": "markdown",
   "id": "664658a4-cacd-4025-a147-470c1de546da",
   "metadata": {},
   "source": [
    "## 1.1. stock prices and basic info\n",
    "1. Stock price plot (5y so that user can dynamically change ranges)\n",
    "2. Basic information of stock.\n",
    "<br>2.1. History, vision, industry, service products, and future)\n",
    "<br>2.2. Fundamental analysis with competitors (EPS, marketcap, PER, inside investments, institution investments etc...). Market share.\n",
    "\n",
    "\n",
    "\n",
    "Keep on updating:\n",
    "<br>2.1. daily reading news and summarizing news related to them.\n",
    "<br>2.2. Once in a while when data changes."
   ]
  },
  {
   "cell_type": "code",
   "execution_count": null,
   "id": "2453a993-9568-4808-b607-ae855e03d811",
   "metadata": {},
   "outputs": [],
   "source": [
    "# ??? How to render interative version to web...?\n",
    "\n",
    "fig_price = create_candlestick_chart(stock_price_df, stock_info['company_name'], stock_info['currency'])\n",
    "fig_price.show()\n",
    "\n",
    "print(f\"\"\"\n",
    "Company: {stock_info['company_name']} \n",
    "Sector: {stock_info['sector']}\n",
    "Industry: {stock_info['industry']}\n",
    "Currency: {stock_info['currency']}\n",
    "Traded in: {stock_info['stock_exch']}\n",
    "\n",
    "About:\n",
    "{stock_info['business_summary']}\n",
    "\"\"\")"
   ]
  },
  {
   "cell_type": "code",
   "execution_count": 14,
   "id": "47d1b7d2-15ed-4c1d-820e-f5b00826bc5f",
   "metadata": {},
   "outputs": [
    {
     "name": "stdout",
     "output_type": "stream",
     "text": [
      "LLM successfully configured with: GEMINI: gemini-2.0-flash\n"
     ]
    }
   ],
   "source": [
    "# import google.generativeai as genai\n",
    "# genai.configure(api_key=os.getenv('GEMINI_API_KEY'))\n",
    "# gemini_text_gen = genai.GenerativeModel('gemini-2.0-flash')\n",
    "lucerna = Lucerna('gemini', \"gemini-2.0-flash\")"
   ]
  },
  {
   "cell_type": "markdown",
   "id": "a32d09b2-269f-4205-b29d-402d07491ee8",
   "metadata": {},
   "source": [
    "??? Prompt generator: https://docs.anthropic.com/en/docs/build-with-claude/prompt-engineering/prompt-generator"
   ]
  },
  {
   "cell_type": "code",
   "execution_count": 22,
   "id": "7b1c7403-2c10-45f5-8dc2-da970d707d58",
   "metadata": {},
   "outputs": [],
   "source": [
    "prompt_company_info = \"\"\"\n",
    "You are a value investor with decades of experience. Let's perform a extensive research on {company} to create a report for clients on the buy-side. \n",
    "Let's follow steps below:\n",
    "1. Gather information about the services and products of the {company} and provide statistics.\n",
    "2. For each service and product, provide information about its market, market share, its major clients (provide company names if applicable) and its competitors. \n",
    "3. What risks are associated with current company? (e.g. geopolitical risk in semiconductor industry, oil price in transportation induestry, etc...)\n",
    "\n",
    "As our clients have high mathematical and finance aptitude, provide table and numbers to explain concisely and clearly.\n",
    "Do not provide code or explanation of how chart should be created.\n",
    "\"\"\""
   ]
  },
  {
   "cell_type": "code",
   "execution_count": 23,
   "id": "18a5ca15-e7db-4f5c-97b6-ecfc39b5b2d5",
   "metadata": {},
   "outputs": [
    {
     "data": {
      "text/markdown": [
       "Okay, here's a comprehensive value investing report on LG Energy Solution (LGES), focusing on key information points relevant to sophisticated buy-side clients.\n",
       "\n",
       "**LG Energy Solution (LGES): A Value Investment Perspective**\n",
       "\n",
       "**Executive Summary:**\n",
       "\n",
       "LG Energy Solution (LGES), a leading global battery manufacturer, is a compelling investment opportunity based on the long-term growth potential of the electric vehicle (EV) market and the company's established position, technological capabilities, and manufacturing scale. While certain risks exist (geopolitical, raw material costs, technological shifts, competition), the potential upside significantly outweighs these concerns. Our analysis suggests that LGES is currently undervalued relative to its intrinsic value, considering its growth prospects and competitive advantages.\n",
       "\n",
       "**1. Services and Products:**\n",
       "\n",
       "LGES primarily focuses on battery solutions. Here's a breakdown:\n",
       "\n",
       "| Product/Service                       | Description                                                                                               | Statistics (Approximate)                                                       |\n",
       "|---------------------------------------|-----------------------------------------------------------------------------------------------------------|---------------------------------------------------------------------------------|\n",
       "| **Automotive Batteries**              | Lithium-ion batteries for electric vehicles (BEVs, PHEVs, HEVs). Focus on pouch-type cells.               | >70% of revenue.  Targeting over 30% revenue CAGR over next 5 years.         |\n",
       "| **Energy Storage Systems (ESS)**      | Batteries for residential, commercial, and grid-scale energy storage.                                      | Approximately 20% of revenue. Growing rapidly due to renewable energy expansion. |\n",
       "| **IT & New Applications Batteries** | Batteries for power tools, laptops, e-bikes, and other applications.                                        | <10% of revenue.  More focused on higher-margin specialty applications.        |\n",
       "\n",
       "**2. Market Analysis (by Product/Service):**\n",
       "\n",
       "**A. Automotive Batteries**\n",
       "\n",
       "| Factor             | Description                                                                                                       | Data/Information                                                                                                                                             |\n",
       "|----------------------|-------------------------------------------------------------------------------------------------------------------|---------------------------------------------------------------------------------------------------------------------------------------------------------------|\n",
       "| Market             | Global EV battery market (Lithium-ion).                                                                           | Projected to reach $150-200 billion by 2030 (various sources – BloombergNEF, McKinsey). CAGR: 20-30% (depending on region & assumptions).                 |\n",
       "| Market Share          | One of the top 3 global players.                                                                                     | Typically between 15-25% globally (fluctuates based on quarter and source).  CATL is generally the market leader.                                       |\n",
       "| Major Clients        | **General Motors, Stellantis, Hyundai Motor Group, Tesla, Volkswagen.**                                             | Supply agreements are generally long-term (3-5+ years).  Significant ongoing expansion of supply agreements to meet increasing demand.                     |\n",
       "| Competitors           | **CATL, BYD, Panasonic, Samsung SDI, SK On.**                                                                    | CATL and BYD are primarily focused on LFP batteries, while LGES focuses on NCM batteries. Tesla uses both types of batteries                                  |\n",
       "| Technological Trend | Higher energy density, faster charging times, improved safety, lower cost, solid-state battery development. | LGES is investing heavily in next-generation battery technologies, including solid-state.  Focus on nickel-rich cathodes to increase energy density.    |\n",
       "\n",
       "**B. Energy Storage Systems (ESS)**\n",
       "\n",
       "| Factor             | Description                                                                                                       | Data/Information                                                                                                                                       |\n",
       "|----------------------|-------------------------------------------------------------------------------------------------------------------|---------------------------------------------------------------------------------------------------------------------------------------------------------|\n",
       "| Market             | Global ESS market (Lithium-ion).                                                                                  | Projected to reach $40-60 billion by 2030 (various sources – Wood Mackenzie, BloombergNEF).  Strong growth driven by renewable energy integration. |\n",
       "| Market Share          | Significant player, particularly in residential and grid-scale ESS.                                                  | Market share varies by region.  Competing with companies specializing in energy and renewable energy.                                             |\n",
       "| Major Clients        | Utilities (e.g., [Hypothetical]: Pacific Gas & Electric), Commercial & Industrial users, Residential customers. | ESS projects are often large-scale and involve complex contracts.                                                                                      |\n",
       "| Competitors           | **CATL, BYD, Fluence, Tesla, Siemens, SMA Solar Technology.**                                                    | Growing competition from companies with expertise in power electronics and energy management systems.                                                   |\n",
       "| Technological Trend | Longer lifespan, improved efficiency, safety, and cost reduction.                                             | Emphasis on system integration and software solutions for grid stability and energy management.                                                            |\n",
       "\n",
       "**C. IT & New Applications Batteries**\n",
       "\n",
       "| Factor             | Description                                                       | Data/Information                                                                                                     |\n",
       "|----------------------|-------------------------------------------------------------------|-----------------------------------------------------------------------------------------------------------------------|\n",
       "| Market             | Batteries for power tools, laptops, e-bikes, etc.              | Smaller market compared to automotive and ESS, but still substantial. Growth is driven by the increasing demand for portable power and electrification. |\n",
       "| Market Share          | Smaller player compared to other applications.                    | Varies by specific application.                                                                                       |\n",
       "| Major Clients        | Power tool manufacturers, laptop manufacturers, e-bike companies. | Focusing on high-value, specialized applications.                                                                  |\n",
       "| Competitors           | **Panasonic, Samsung SDI, Murata, ATL.**                    | High competition from established battery manufacturers.                                                               |\n",
       "| Technological Trend | Smaller size, higher energy density, longer lifespan.           | Constant innovation to improve battery performance and durability.                                                    |\n",
       "\n",
       "**3. Key Risks:**\n",
       "\n",
       "| Risk Category        | Description                                                                                                                                                                                            | Mitigation Strategies/Considerations                                                                                                                                                                             |\n",
       "|-----------------------|--------------------------------------------------------------------------------------------------------------------------------------------------------------------------------------------------------|---------------------------------------------------------------------------------------------------------------------------------------------------------------------------------------------------------------|\n",
       "| **Raw Material Costs**| Fluctuations in the prices of lithium, nickel, cobalt, and manganese.  Supply chain disruptions.                                                                                               | Vertical integration (investing in or securing long-term contracts with mining companies), diversification of sourcing, development of alternative battery chemistries (e.g., LFP).                               |\n",
       "| **Geopolitical Risks**| Dependence on specific countries for raw materials (e.g., lithium from South America, cobalt from the DRC).  Trade tensions. Potential disruptions due to geopolitical instability.              | Diversification of sourcing, strategic partnerships with local suppliers, investing in refining and processing capabilities in multiple regions.                                                        |\n",
       "| **Technological Disruption**| Development of competing battery technologies (e.g., solid-state batteries, sodium-ion batteries) by competitors could erode LGES's competitive advantage. | Aggressive investment in R&D, strategic partnerships with universities and research institutions, early adoption of promising new technologies.                                                                       |\n",
       "| **Competition**         | Intense competition from CATL, BYD, Panasonic, and other battery manufacturers. Price pressures.                                                                                                   | Focus on technological differentiation (higher energy density, faster charging), building strong customer relationships, cost optimization through scale and manufacturing efficiency.                         |\n",
       "| **Execution Risk**   | Challenges in scaling up production, managing complex supply chains, and maintaining product quality. Delays in new factory construction.                                                              | Strong project management capabilities, robust quality control processes, careful selection of factory locations, investment in automation and process optimization.                                           |\n",
       "| **Regulatory Risks** | Changes in government regulations related to EV subsidies, battery recycling, and environmental standards.                                                                                              | Active monitoring of regulatory developments, engagement with policymakers, proactive compliance with environmental regulations.                                                                            |\n",
       "| **Financial Risks** | Interest rate risk (large capital expenditures), currency exchange rate risk (global operations), potential for large warranty claims. | Hedging strategies, prudent financial management, comprehensive risk assessment.                                                                                                                                            |\n",
       "\n",
       "**Quantitative Analysis (Example)**\n",
       "\n",
       "While providing a full DCF analysis is beyond the scope of this report, let's illustrate key assumptions with a sensitivity analysis table:\n",
       "\n",
       "| Factor                    | Base Case | Optimistic Case | Pessimistic Case | Impact on Valuation (Illustrative) |\n",
       "|---------------------------|-----------|-----------------|------------------|-------------------------------------|\n",
       "| Revenue Growth (Next 5 Yrs) | 25%       | 35%             | 15%              | +/- 20-30%                         |\n",
       "| Gross Margin                | 20%       | 23%             | 17%              | +/- 10-15%                         |\n",
       "| Discount Rate (WACC)        | 8%        | 7%              | 9%              | +/- 15-20%                         |\n",
       "\n",
       "**Conclusion:**\n",
       "\n",
       "LG Energy Solution presents a compelling investment opportunity within the rapidly growing EV and ESS markets. While the company faces risks related to raw material costs, competition, and technological change, its established position, strong customer relationships, and focus on innovation provide a solid foundation for future growth. A thorough valuation analysis, including a detailed DCF model incorporating these sensitivities, is recommended to determine a precise target price. Based on our preliminary analysis, LGES appears undervalued, offering significant upside potential for long-term investors.\n"
      ],
      "text/plain": [
       "<IPython.core.display.Markdown object>"
      ]
     },
     "metadata": {},
     "output_type": "display_data"
    }
   ],
   "source": [
    "\"\"\"\n",
    "One way to draw plots and graphs using LLM is to make them output code then you render it.\n",
    "\"\"\"\n",
    "\n",
    "resp = lucerna.explain_company(stock_info['company_name'], custom_prompt=prompt_company_info)\n",
    "display(Markdown(resp))"
   ]
  },
  {
   "cell_type": "markdown",
   "id": "70b952ae-6db3-40cc-bdd8-abe274bab01b",
   "metadata": {},
   "source": [
    "OpenAI model versions: https://platform.openai.com/docs/models\n",
    "- reasoning: o3, o4-mini, etc...\n",
    "- chat: GPT-4.1, ChatGPT-4o\n",
    "- cost optimized: o4-mini, GPT-4.1 mini, GPT-4.1 nano "
   ]
  },
  {
   "cell_type": "code",
   "execution_count": null,
   "id": "d0147347-645c-4139-ac97-457efd094039",
   "metadata": {},
   "outputs": [],
   "source": [
    "from openai import OpenAI\n",
    "client = OpenAI(api_key=os.getenv('OPENAI_API_KEY'))\n",
    "\n",
    "\n",
    "# response = client.responses.create(\n",
    "#     model=\"gpt-4.1\",\n",
    "#     # tools=[{\"type\": \"web_search_preview\"}],\n",
    "#     input=\"Write a one-sentence bedtime story about a unicorn.\"\n",
    "# )\n",
    "\n",
    "# print(response.output_text)"
   ]
  },
  {
   "cell_type": "code",
   "execution_count": null,
   "id": "168c25b4-8541-4222-94c8-c195c3c90d1d",
   "metadata": {},
   "outputs": [],
   "source": [
    "client.models"
   ]
  },
  {
   "cell_type": "code",
   "execution_count": null,
   "id": "864da001-7892-449c-978f-08a87efe658c",
   "metadata": {},
   "outputs": [],
   "source": []
  },
  {
   "cell_type": "markdown",
   "id": "776b5aad-7bec-447b-bc96-3bdd8170c5fd",
   "metadata": {},
   "source": [
    "## 1.2. Fundamental analysis"
   ]
  },
  {
   "cell_type": "code",
   "execution_count": 25,
   "id": "9dcfbba1-fbbe-4be2-bc12-5f913e37609f",
   "metadata": {},
   "outputs": [
    {
     "name": "stdout",
     "output_type": "stream",
     "text": [
      "# of filled recent rows: 1\n"
     ]
    },
    {
     "name": "stderr",
     "output_type": "stream",
     "text": [
      "/var/folders/zr/jnkvtxmj0dz522jdxxzd82380000gn/T/ipykernel_13844/755693285.py:16: FutureWarning: Downcasting object dtype arrays on .fillna, .ffill, .bfill is deprecated and will change in a future version. Call result.infer_objects(copy=False) instead. To opt-in to the future behavior, set `pd.set_option('future.no_silent_downcasting', True)`\n",
      "  filled_series = series.bfill()\n"
     ]
    }
   ],
   "source": [
    "freq = 'yearly'\n",
    "# freq = 'quarterly'\n",
    "\n",
    "net_income = ticker.get_income_stmt(freq=freq).loc['NetIncome']\n",
    "share_issued = ticker.get_balance_sheet(freq=freq).loc['ShareIssued']\n",
    "per_df = get_per_df(ticker, stock_price_df, net_income, share_issued)"
   ]
  },
  {
   "cell_type": "code",
   "execution_count": 46,
   "id": "ce19b2c6-a4fa-4bd5-bf68-e8256dc681ca",
   "metadata": {},
   "outputs": [],
   "source": [
    "stock_info['fundamental_analysis_df'] = per_df"
   ]
  },
  {
   "cell_type": "markdown",
   "id": "ebf1eaa4-3489-4b8b-a49e-8562e436b652",
   "metadata": {},
   "source": [
    "### 1.2.1. Compare with competitors\n",
    "\n",
    "Getting list of competitors to extract their info\n",
    "- Compare revenue per year\n",
    "- Compare fundamentals: PER, PBR, etc... in a table and use color to represent weather competitor is better or worse\n"
   ]
  },
  {
   "cell_type": "code",
   "execution_count": 39,
   "id": "2b90bcf1-1cfb-4727-b4f8-3a5a4d3ce8f9",
   "metadata": {},
   "outputs": [],
   "source": [
    "\"\"\"\n",
    "The reason I ask for company name and ticker even though we use ticker to retrieve company name is because prompting LLM\n",
    "to provide both company name and ticker has higher accuracy compared to asking only for tickers.\n",
    "\"\"\"\n",
    "\n",
    "competitor_list_prompt = f\"\"\"\n",
    "Provide company name and stock symbol of competitors in python list format. Be specific as possible, meaning\n",
    "give name of the subsidiary if it is listed in the exchange and provide most generic name.\n",
    "Output information like you are presenting it to a stakeholder (exclude starting a sentence with\n",
    "Okay, yes, I understand, etc...)\n",
    "1. Output python list of competitor name without any new line separator. Make sure name does not contain parenthesis.\n",
    "2. Make sure competitor company is listed in stock exchange. Otherwise, skip it.\n",
    "3. Provide short sentence for each competitor on what they are competing on. \n",
    "\n",
    "rules:\n",
    "- do not separate each element in python list with new line or many spaces. Sentences describing companies are fine.\n",
    "- Make sure company name is generic and does not contain parenthesis. Parenthesis is only for stock symbols.\n",
    "\n",
    "For example, \n",
    "company: Tesla\n",
    "answer: ['Google (GOOG)', 'Amazon (AMZN)', 'CATL (300750.SZ)', 'BYD (1211.HK)', 'Samsung SDI (006400.KS)',etc...]\n",
    "Google: Both working on data centers and energy solutions.\n",
    "Amazon: Both working on data centers and energy solutions.\n",
    "BYD: BYD is a electric vehicle company that is growing at rapid pace, surpassing Tesla in \n",
    "EV market share.\n",
    "Samsung SDI: working on ESS\n",
    "\n",
    "company: {stock_info['company_name']}\n",
    "answer: \n",
    "\"\"\"\n",
    "resp = lucerna.explain_company(stock_info['company_name'],\n",
    "                              competitor_list_prompt,\n",
    "                               generation_config={\"temperature\":0.4})\n",
    "compt_list = ast.literal_eval(re.search(r'\\[.*?\\]', resp).group())"
   ]
  },
  {
   "cell_type": "code",
   "execution_count": 40,
   "id": "535228cf-ea07-4544-9aa1-e1dc26f02d95",
   "metadata": {},
   "outputs": [
    {
     "data": {
      "text/markdown": [
       "Here's a list of key competitors to LG Energy Solution, along with a brief explanation of their competitive overlap:\n",
       "\n",
       "```python\n",
       "['Samsung SDI (006400.KS)', 'Panasonic (6752.T)', 'CATL (300750.SZ)', 'BYD (1211.HK)', 'SK Innovation (096770.KS)']\n",
       "```\n",
       "\n",
       "Samsung SDI: Competes directly in the development, manufacturing, and sales of lithium-ion batteries for electric vehicles, energy storage systems (ESS), and IT devices.\n",
       "\n",
       "Panasonic: A major player in the EV battery market, particularly as a long-time supplier to Tesla, and competes with LG Energy Solution for automotive battery contracts.\n",
       "\n",
       "CATL: The world's largest battery manufacturer, CATL is a significant competitor in the EV battery market, offering a wide range of battery solutions and aggressively expanding its global footprint.\n",
       "\n",
       "BYD: A vertically integrated company that produces both electric vehicles and the batteries that power them, BYD competes with LG Energy Solution in the growing EV and ESS markets.\n",
       "\n",
       "SK Innovation: Another South Korean battery manufacturer, SK Innovation (now SK On) competes with LG Energy Solution in the automotive battery sector, supplying batteries to major automakers.\n"
      ],
      "text/plain": [
       "<IPython.core.display.Markdown object>"
      ]
     },
     "metadata": {},
     "output_type": "display_data"
    }
   ],
   "source": [
    "display(Markdown(resp))"
   ]
  },
  {
   "cell_type": "code",
   "execution_count": 41,
   "id": "1e5924ab-9cd3-44d3-bf26-86094c791cb7",
   "metadata": {},
   "outputs": [
    {
     "data": {
      "text/plain": [
       "['Samsung SDI (006400.KS)',\n",
       " 'Panasonic (6752.T)',\n",
       " 'CATL (300750.SZ)',\n",
       " 'BYD (1211.HK)',\n",
       " 'SK Innovation (096770.KS)']"
      ]
     },
     "execution_count": 41,
     "metadata": {},
     "output_type": "execute_result"
    }
   ],
   "source": [
    "compt_list"
   ]
  },
  {
   "cell_type": "code",
   "execution_count": 95,
   "id": "d5c8ba71-afc6-46a3-b067-fa1b11fd206e",
   "metadata": {},
   "outputs": [
    {
     "name": "stderr",
     "output_type": "stream",
     "text": [
      "/var/folders/zr/jnkvtxmj0dz522jdxxzd82380000gn/T/ipykernel_13844/3247581669.py:16: FutureWarning: Downcasting object dtype arrays on .fillna, .ffill, .bfill is deprecated and will change in a future version. Call result.infer_objects(copy=False) instead. To opt-in to the future behavior, set `pd.set_option('future.no_silent_downcasting', True)`\n",
      "  filled_series = series.bfill()\n"
     ]
    },
    {
     "name": "stdout",
     "output_type": "stream",
     "text": [
      "# of filled recent rows: 0\n"
     ]
    },
    {
     "name": "stderr",
     "output_type": "stream",
     "text": [
      "/var/folders/zr/jnkvtxmj0dz522jdxxzd82380000gn/T/ipykernel_13844/3247581669.py:16: FutureWarning: Downcasting object dtype arrays on .fillna, .ffill, .bfill is deprecated and will change in a future version. Call result.infer_objects(copy=False) instead. To opt-in to the future behavior, set `pd.set_option('future.no_silent_downcasting', True)`\n",
      "  filled_series = series.bfill()\n"
     ]
    },
    {
     "name": "stdout",
     "output_type": "stream",
     "text": [
      "# of filled recent rows: 0\n"
     ]
    },
    {
     "name": "stderr",
     "output_type": "stream",
     "text": [
      "/var/folders/zr/jnkvtxmj0dz522jdxxzd82380000gn/T/ipykernel_13844/3247581669.py:16: FutureWarning: Downcasting object dtype arrays on .fillna, .ffill, .bfill is deprecated and will change in a future version. Call result.infer_objects(copy=False) instead. To opt-in to the future behavior, set `pd.set_option('future.no_silent_downcasting', True)`\n",
      "  filled_series = series.bfill()\n"
     ]
    },
    {
     "name": "stdout",
     "output_type": "stream",
     "text": [
      "# of filled recent rows: 0\n"
     ]
    },
    {
     "name": "stderr",
     "output_type": "stream",
     "text": [
      "/var/folders/zr/jnkvtxmj0dz522jdxxzd82380000gn/T/ipykernel_13844/3247581669.py:16: FutureWarning: Downcasting object dtype arrays on .fillna, .ffill, .bfill is deprecated and will change in a future version. Call result.infer_objects(copy=False) instead. To opt-in to the future behavior, set `pd.set_option('future.no_silent_downcasting', True)`\n",
      "  filled_series = series.bfill()\n"
     ]
    },
    {
     "name": "stdout",
     "output_type": "stream",
     "text": [
      "# of filled recent rows: 0\n",
      "# of filled recent rows: 0\n"
     ]
    },
    {
     "name": "stderr",
     "output_type": "stream",
     "text": [
      "/var/folders/zr/jnkvtxmj0dz522jdxxzd82380000gn/T/ipykernel_13844/3247581669.py:16: FutureWarning: Downcasting object dtype arrays on .fillna, .ffill, .bfill is deprecated and will change in a future version. Call result.infer_objects(copy=False) instead. To opt-in to the future behavior, set `pd.set_option('future.no_silent_downcasting', True)`\n",
      "  filled_series = series.bfill()\n"
     ]
    }
   ],
   "source": [
    "competitors = {}\n",
    "for c in compt_list:\n",
    "    company_name, symbol = c.split(\"(\")\n",
    "    company_name = company_name.strip(\" \")\n",
    "    symbol = symbol.strip(\")\")\n",
    "    competitors[company_name] = {\"ticker\":symbol}\n",
    "\n",
    "for company_name, competitor_ticker in competitors.items():\n",
    "    comp_ticker = yf.Ticker(competitor_ticker['ticker'])\n",
    "    # dictionary of competitors in same format as stock_info\n",
    "    competitors[company_name]['company_name'] = comp_ticker.info['longName']\n",
    "    competitors[company_name][\"country\"] = comp_ticker.info['country']\n",
    "    competitors[company_name][\"sector\"] = comp_ticker.info['sector']\n",
    "    competitors[company_name][\"industry\"] = comp_ticker.info['industry']\n",
    "    competitors[company_name][\"business_summary\"] = comp_ticker.info['longBusinessSummary']\n",
    "    competitors[company_name][\"currency\"] = comp_ticker.info['financialCurrency']\n",
    "    competitors[company_name][\"stock_exch\"] = comp_ticker.info['fullExchangeName']\n",
    "    \n",
    "    stock_price_df = get_stock_price(comp_ticker, st_date, end_date, interval='1d', timezone=False)\n",
    "    net_income = comp_ticker.get_income_stmt(freq=freq).loc['NetIncome']\n",
    "    share_issued = comp_ticker.get_balance_sheet(freq=freq).loc['ShareIssued']\n",
    "    per_df = get_per_df(comp_ticker, stock_price_df, net_income, share_issued)\n",
    "    \n",
    "    competitors[company_name]['price_df'] = stock_price_df\n",
    "    competitors[company_name]['fundamental_analysis_df'] = per_df\n",
    "    "
   ]
  },
  {
   "cell_type": "code",
   "execution_count": 176,
   "id": "9eecf5bb-834b-4418-b313-48773ed265c5",
   "metadata": {},
   "outputs": [
    {
     "data": {
      "text/html": [
       "<div>\n",
       "<style scoped>\n",
       "    .dataframe tbody tr th:only-of-type {\n",
       "        vertical-align: middle;\n",
       "    }\n",
       "\n",
       "    .dataframe tbody tr th {\n",
       "        vertical-align: top;\n",
       "    }\n",
       "\n",
       "    .dataframe thead th {\n",
       "        text-align: right;\n",
       "    }\n",
       "</style>\n",
       "<table border=\"1\" class=\"dataframe\">\n",
       "  <thead>\n",
       "    <tr style=\"text-align: right;\">\n",
       "      <th></th>\n",
       "      <th>LGES</th>\n",
       "      <th>Samsung SDI</th>\n",
       "      <th>Panasonic</th>\n",
       "      <th>CATL</th>\n",
       "      <th>BYD</th>\n",
       "      <th>SK Innovation</th>\n",
       "    </tr>\n",
       "  </thead>\n",
       "  <tbody>\n",
       "    <tr>\n",
       "      <th>2024-06-30</th>\n",
       "      <td>-172.1128</td>\n",
       "      <td>79.485929</td>\n",
       "      <td>NaN</td>\n",
       "      <td>61.159514</td>\n",
       "      <td>73.257611</td>\n",
       "      <td>-18.925073</td>\n",
       "    </tr>\n",
       "    <tr>\n",
       "      <th>2024-09-30</th>\n",
       "      <td>717.87227</td>\n",
       "      <td>113.132289</td>\n",
       "      <td>NaN</td>\n",
       "      <td>97.764447</td>\n",
       "      <td>75.044786</td>\n",
       "      <td>-17.707275</td>\n",
       "    </tr>\n",
       "    <tr>\n",
       "      <th>2024-12-31</th>\n",
       "      <td>-119.124093</td>\n",
       "      <td>-75.769333</td>\n",
       "      <td>NaN</td>\n",
       "      <td>75.406768</td>\n",
       "      <td>50.024036</td>\n",
       "      <td>-16.63701</td>\n",
       "    </tr>\n",
       "    <tr>\n",
       "      <th>2025-03-31</th>\n",
       "      <td>-526.636476</td>\n",
       "      <td>-61.756536</td>\n",
       "      <td>NaN</td>\n",
       "      <td>77.000724</td>\n",
       "      <td>128.201987</td>\n",
       "      <td>-71.531611</td>\n",
       "    </tr>\n",
       "  </tbody>\n",
       "</table>\n",
       "</div>"
      ],
      "text/plain": [
       "                  LGES Samsung SDI Panasonic       CATL         BYD  \\\n",
       "2024-06-30   -172.1128   79.485929       NaN  61.159514   73.257611   \n",
       "2024-09-30   717.87227  113.132289       NaN  97.764447   75.044786   \n",
       "2024-12-31 -119.124093  -75.769333       NaN  75.406768   50.024036   \n",
       "2025-03-31 -526.636476  -61.756536       NaN  77.000724  128.201987   \n",
       "\n",
       "           SK Innovation  \n",
       "2024-06-30    -18.925073  \n",
       "2024-09-30    -17.707275  \n",
       "2024-12-31     -16.63701  \n",
       "2025-03-31    -71.531611  "
      ]
     },
     "metadata": {},
     "output_type": "display_data"
    },
    {
     "data": {
      "application/vnd.plotly.v1+json": {
       "config": {
        "plotlyServerURL": "https://plot.ly"
       },
       "data": [
        {
         "name": "LGES",
         "type": "scatter",
         "x": [
          "2024-06-30T00:00:00",
          "2024-09-30T00:00:00",
          "2024-12-31T00:00:00",
          "2025-03-31T00:00:00"
         ],
         "y": [
          -172.1128002509687,
          717.8722701192587,
          -119.12409274623673,
          -526.6364759160148
         ]
        },
        {
         "name": "Samsung SDI",
         "type": "scatter",
         "x": [
          "2024-06-30T00:00:00",
          "2024-09-30T00:00:00",
          "2024-12-31T00:00:00",
          "2025-03-31T00:00:00"
         ],
         "y": [
          79.48592877700439,
          113.13228940805465,
          -75.76933319822851,
          -61.756535696871325
         ]
        },
        {
         "name": "Panasonic",
         "type": "scatter",
         "x": [
          "2024-06-30T00:00:00",
          "2024-09-30T00:00:00",
          "2024-12-31T00:00:00",
          "2025-03-31T00:00:00"
         ],
         "y": [
          null,
          null,
          null,
          null
         ]
        },
        {
         "name": "CATL",
         "type": "scatter",
         "x": [
          "2024-06-30T00:00:00",
          "2024-09-30T00:00:00",
          "2024-12-31T00:00:00",
          "2025-03-31T00:00:00"
         ],
         "y": [
          61.159513596368996,
          97.76444729813865,
          75.40676788543821,
          77.00072379461031
         ]
        },
        {
         "name": "BYD",
         "type": "scatter",
         "x": [
          "2024-06-30T00:00:00",
          "2024-09-30T00:00:00",
          "2024-12-31T00:00:00",
          "2025-03-31T00:00:00"
         ],
         "y": [
          73.25761064900509,
          75.04478638665609,
          50.024035943140404,
          128.201987256011
         ]
        },
        {
         "name": "SK Innovation",
         "type": "scatter",
         "x": [
          "2024-06-30T00:00:00",
          "2024-09-30T00:00:00",
          "2024-12-31T00:00:00",
          "2025-03-31T00:00:00"
         ],
         "y": [
          -18.92507271149216,
          -17.707275219011276,
          -16.63701015194504,
          -71.53161076956057
         ]
        }
       ],
       "layout": {
        "autosize": true,
        "template": {
         "data": {
          "bar": [
           {
            "error_x": {
             "color": "#2a3f5f"
            },
            "error_y": {
             "color": "#2a3f5f"
            },
            "marker": {
             "line": {
              "color": "#E5ECF6",
              "width": 0.5
             },
             "pattern": {
              "fillmode": "overlay",
              "size": 10,
              "solidity": 0.2
             }
            },
            "type": "bar"
           }
          ],
          "barpolar": [
           {
            "marker": {
             "line": {
              "color": "#E5ECF6",
              "width": 0.5
             },
             "pattern": {
              "fillmode": "overlay",
              "size": 10,
              "solidity": 0.2
             }
            },
            "type": "barpolar"
           }
          ],
          "carpet": [
           {
            "aaxis": {
             "endlinecolor": "#2a3f5f",
             "gridcolor": "white",
             "linecolor": "white",
             "minorgridcolor": "white",
             "startlinecolor": "#2a3f5f"
            },
            "baxis": {
             "endlinecolor": "#2a3f5f",
             "gridcolor": "white",
             "linecolor": "white",
             "minorgridcolor": "white",
             "startlinecolor": "#2a3f5f"
            },
            "type": "carpet"
           }
          ],
          "choropleth": [
           {
            "colorbar": {
             "outlinewidth": 0,
             "ticks": ""
            },
            "type": "choropleth"
           }
          ],
          "contour": [
           {
            "colorbar": {
             "outlinewidth": 0,
             "ticks": ""
            },
            "colorscale": [
             [
              0,
              "#0d0887"
             ],
             [
              0.1111111111111111,
              "#46039f"
             ],
             [
              0.2222222222222222,
              "#7201a8"
             ],
             [
              0.3333333333333333,
              "#9c179e"
             ],
             [
              0.4444444444444444,
              "#bd3786"
             ],
             [
              0.5555555555555556,
              "#d8576b"
             ],
             [
              0.6666666666666666,
              "#ed7953"
             ],
             [
              0.7777777777777778,
              "#fb9f3a"
             ],
             [
              0.8888888888888888,
              "#fdca26"
             ],
             [
              1,
              "#f0f921"
             ]
            ],
            "type": "contour"
           }
          ],
          "contourcarpet": [
           {
            "colorbar": {
             "outlinewidth": 0,
             "ticks": ""
            },
            "type": "contourcarpet"
           }
          ],
          "heatmap": [
           {
            "colorbar": {
             "outlinewidth": 0,
             "ticks": ""
            },
            "colorscale": [
             [
              0,
              "#0d0887"
             ],
             [
              0.1111111111111111,
              "#46039f"
             ],
             [
              0.2222222222222222,
              "#7201a8"
             ],
             [
              0.3333333333333333,
              "#9c179e"
             ],
             [
              0.4444444444444444,
              "#bd3786"
             ],
             [
              0.5555555555555556,
              "#d8576b"
             ],
             [
              0.6666666666666666,
              "#ed7953"
             ],
             [
              0.7777777777777778,
              "#fb9f3a"
             ],
             [
              0.8888888888888888,
              "#fdca26"
             ],
             [
              1,
              "#f0f921"
             ]
            ],
            "type": "heatmap"
           }
          ],
          "heatmapgl": [
           {
            "colorbar": {
             "outlinewidth": 0,
             "ticks": ""
            },
            "colorscale": [
             [
              0,
              "#0d0887"
             ],
             [
              0.1111111111111111,
              "#46039f"
             ],
             [
              0.2222222222222222,
              "#7201a8"
             ],
             [
              0.3333333333333333,
              "#9c179e"
             ],
             [
              0.4444444444444444,
              "#bd3786"
             ],
             [
              0.5555555555555556,
              "#d8576b"
             ],
             [
              0.6666666666666666,
              "#ed7953"
             ],
             [
              0.7777777777777778,
              "#fb9f3a"
             ],
             [
              0.8888888888888888,
              "#fdca26"
             ],
             [
              1,
              "#f0f921"
             ]
            ],
            "type": "heatmapgl"
           }
          ],
          "histogram": [
           {
            "marker": {
             "pattern": {
              "fillmode": "overlay",
              "size": 10,
              "solidity": 0.2
             }
            },
            "type": "histogram"
           }
          ],
          "histogram2d": [
           {
            "colorbar": {
             "outlinewidth": 0,
             "ticks": ""
            },
            "colorscale": [
             [
              0,
              "#0d0887"
             ],
             [
              0.1111111111111111,
              "#46039f"
             ],
             [
              0.2222222222222222,
              "#7201a8"
             ],
             [
              0.3333333333333333,
              "#9c179e"
             ],
             [
              0.4444444444444444,
              "#bd3786"
             ],
             [
              0.5555555555555556,
              "#d8576b"
             ],
             [
              0.6666666666666666,
              "#ed7953"
             ],
             [
              0.7777777777777778,
              "#fb9f3a"
             ],
             [
              0.8888888888888888,
              "#fdca26"
             ],
             [
              1,
              "#f0f921"
             ]
            ],
            "type": "histogram2d"
           }
          ],
          "histogram2dcontour": [
           {
            "colorbar": {
             "outlinewidth": 0,
             "ticks": ""
            },
            "colorscale": [
             [
              0,
              "#0d0887"
             ],
             [
              0.1111111111111111,
              "#46039f"
             ],
             [
              0.2222222222222222,
              "#7201a8"
             ],
             [
              0.3333333333333333,
              "#9c179e"
             ],
             [
              0.4444444444444444,
              "#bd3786"
             ],
             [
              0.5555555555555556,
              "#d8576b"
             ],
             [
              0.6666666666666666,
              "#ed7953"
             ],
             [
              0.7777777777777778,
              "#fb9f3a"
             ],
             [
              0.8888888888888888,
              "#fdca26"
             ],
             [
              1,
              "#f0f921"
             ]
            ],
            "type": "histogram2dcontour"
           }
          ],
          "mesh3d": [
           {
            "colorbar": {
             "outlinewidth": 0,
             "ticks": ""
            },
            "type": "mesh3d"
           }
          ],
          "parcoords": [
           {
            "line": {
             "colorbar": {
              "outlinewidth": 0,
              "ticks": ""
             }
            },
            "type": "parcoords"
           }
          ],
          "pie": [
           {
            "automargin": true,
            "type": "pie"
           }
          ],
          "scatter": [
           {
            "fillpattern": {
             "fillmode": "overlay",
             "size": 10,
             "solidity": 0.2
            },
            "type": "scatter"
           }
          ],
          "scatter3d": [
           {
            "line": {
             "colorbar": {
              "outlinewidth": 0,
              "ticks": ""
             }
            },
            "marker": {
             "colorbar": {
              "outlinewidth": 0,
              "ticks": ""
             }
            },
            "type": "scatter3d"
           }
          ],
          "scattercarpet": [
           {
            "marker": {
             "colorbar": {
              "outlinewidth": 0,
              "ticks": ""
             }
            },
            "type": "scattercarpet"
           }
          ],
          "scattergeo": [
           {
            "marker": {
             "colorbar": {
              "outlinewidth": 0,
              "ticks": ""
             }
            },
            "type": "scattergeo"
           }
          ],
          "scattergl": [
           {
            "marker": {
             "colorbar": {
              "outlinewidth": 0,
              "ticks": ""
             }
            },
            "type": "scattergl"
           }
          ],
          "scattermapbox": [
           {
            "marker": {
             "colorbar": {
              "outlinewidth": 0,
              "ticks": ""
             }
            },
            "type": "scattermapbox"
           }
          ],
          "scatterpolar": [
           {
            "marker": {
             "colorbar": {
              "outlinewidth": 0,
              "ticks": ""
             }
            },
            "type": "scatterpolar"
           }
          ],
          "scatterpolargl": [
           {
            "marker": {
             "colorbar": {
              "outlinewidth": 0,
              "ticks": ""
             }
            },
            "type": "scatterpolargl"
           }
          ],
          "scatterternary": [
           {
            "marker": {
             "colorbar": {
              "outlinewidth": 0,
              "ticks": ""
             }
            },
            "type": "scatterternary"
           }
          ],
          "surface": [
           {
            "colorbar": {
             "outlinewidth": 0,
             "ticks": ""
            },
            "colorscale": [
             [
              0,
              "#0d0887"
             ],
             [
              0.1111111111111111,
              "#46039f"
             ],
             [
              0.2222222222222222,
              "#7201a8"
             ],
             [
              0.3333333333333333,
              "#9c179e"
             ],
             [
              0.4444444444444444,
              "#bd3786"
             ],
             [
              0.5555555555555556,
              "#d8576b"
             ],
             [
              0.6666666666666666,
              "#ed7953"
             ],
             [
              0.7777777777777778,
              "#fb9f3a"
             ],
             [
              0.8888888888888888,
              "#fdca26"
             ],
             [
              1,
              "#f0f921"
             ]
            ],
            "type": "surface"
           }
          ],
          "table": [
           {
            "cells": {
             "fill": {
              "color": "#EBF0F8"
             },
             "line": {
              "color": "white"
             }
            },
            "header": {
             "fill": {
              "color": "#C8D4E3"
             },
             "line": {
              "color": "white"
             }
            },
            "type": "table"
           }
          ]
         },
         "layout": {
          "annotationdefaults": {
           "arrowcolor": "#2a3f5f",
           "arrowhead": 0,
           "arrowwidth": 1
          },
          "autotypenumbers": "strict",
          "coloraxis": {
           "colorbar": {
            "outlinewidth": 0,
            "ticks": ""
           }
          },
          "colorscale": {
           "diverging": [
            [
             0,
             "#8e0152"
            ],
            [
             0.1,
             "#c51b7d"
            ],
            [
             0.2,
             "#de77ae"
            ],
            [
             0.3,
             "#f1b6da"
            ],
            [
             0.4,
             "#fde0ef"
            ],
            [
             0.5,
             "#f7f7f7"
            ],
            [
             0.6,
             "#e6f5d0"
            ],
            [
             0.7,
             "#b8e186"
            ],
            [
             0.8,
             "#7fbc41"
            ],
            [
             0.9,
             "#4d9221"
            ],
            [
             1,
             "#276419"
            ]
           ],
           "sequential": [
            [
             0,
             "#0d0887"
            ],
            [
             0.1111111111111111,
             "#46039f"
            ],
            [
             0.2222222222222222,
             "#7201a8"
            ],
            [
             0.3333333333333333,
             "#9c179e"
            ],
            [
             0.4444444444444444,
             "#bd3786"
            ],
            [
             0.5555555555555556,
             "#d8576b"
            ],
            [
             0.6666666666666666,
             "#ed7953"
            ],
            [
             0.7777777777777778,
             "#fb9f3a"
            ],
            [
             0.8888888888888888,
             "#fdca26"
            ],
            [
             1,
             "#f0f921"
            ]
           ],
           "sequentialminus": [
            [
             0,
             "#0d0887"
            ],
            [
             0.1111111111111111,
             "#46039f"
            ],
            [
             0.2222222222222222,
             "#7201a8"
            ],
            [
             0.3333333333333333,
             "#9c179e"
            ],
            [
             0.4444444444444444,
             "#bd3786"
            ],
            [
             0.5555555555555556,
             "#d8576b"
            ],
            [
             0.6666666666666666,
             "#ed7953"
            ],
            [
             0.7777777777777778,
             "#fb9f3a"
            ],
            [
             0.8888888888888888,
             "#fdca26"
            ],
            [
             1,
             "#f0f921"
            ]
           ]
          },
          "colorway": [
           "#636efa",
           "#EF553B",
           "#00cc96",
           "#ab63fa",
           "#FFA15A",
           "#19d3f3",
           "#FF6692",
           "#B6E880",
           "#FF97FF",
           "#FECB52"
          ],
          "font": {
           "color": "#2a3f5f"
          },
          "geo": {
           "bgcolor": "white",
           "lakecolor": "white",
           "landcolor": "#E5ECF6",
           "showlakes": true,
           "showland": true,
           "subunitcolor": "white"
          },
          "hoverlabel": {
           "align": "left"
          },
          "hovermode": "closest",
          "mapbox": {
           "style": "light"
          },
          "paper_bgcolor": "white",
          "plot_bgcolor": "#E5ECF6",
          "polar": {
           "angularaxis": {
            "gridcolor": "white",
            "linecolor": "white",
            "ticks": ""
           },
           "bgcolor": "#E5ECF6",
           "radialaxis": {
            "gridcolor": "white",
            "linecolor": "white",
            "ticks": ""
           }
          },
          "scene": {
           "xaxis": {
            "backgroundcolor": "#E5ECF6",
            "gridcolor": "white",
            "gridwidth": 2,
            "linecolor": "white",
            "showbackground": true,
            "ticks": "",
            "zerolinecolor": "white"
           },
           "yaxis": {
            "backgroundcolor": "#E5ECF6",
            "gridcolor": "white",
            "gridwidth": 2,
            "linecolor": "white",
            "showbackground": true,
            "ticks": "",
            "zerolinecolor": "white"
           },
           "zaxis": {
            "backgroundcolor": "#E5ECF6",
            "gridcolor": "white",
            "gridwidth": 2,
            "linecolor": "white",
            "showbackground": true,
            "ticks": "",
            "zerolinecolor": "white"
           }
          },
          "shapedefaults": {
           "line": {
            "color": "#2a3f5f"
           }
          },
          "ternary": {
           "aaxis": {
            "gridcolor": "white",
            "linecolor": "white",
            "ticks": ""
           },
           "baxis": {
            "gridcolor": "white",
            "linecolor": "white",
            "ticks": ""
           },
           "bgcolor": "#E5ECF6",
           "caxis": {
            "gridcolor": "white",
            "linecolor": "white",
            "ticks": ""
           }
          },
          "title": {
           "x": 0.05
          },
          "xaxis": {
           "automargin": true,
           "gridcolor": "white",
           "linecolor": "white",
           "ticks": "",
           "title": {
            "standoff": 15
           },
           "zerolinecolor": "white",
           "zerolinewidth": 2
          },
          "yaxis": {
           "automargin": true,
           "gridcolor": "white",
           "linecolor": "white",
           "ticks": "",
           "title": {
            "standoff": 15
           },
           "zerolinecolor": "white",
           "zerolinewidth": 2
          }
         }
        },
        "title": {
         "text": "PER comparison chart"
        },
        "xaxis": {
         "autorange": true,
         "range": [
          "2024-06-13 07:37:09.6239",
          "2025-04-16 16:22:50.3761"
         ],
         "rangeslider": {
          "visible": false,
          "yaxis": {}
         },
         "title": {
          "text": "Date"
         },
         "type": "date"
        },
        "yaxis": {
         "autorange": true,
         "range": [
          -629.3386539868868,
          820.5744481901307
         ],
         "type": "linear"
        }
       }
      },
      "image/png": "[encoded data removed]",
      "text/html": [
       "<div>                            <div id=\"b29eb607-4554-4a62-85eb-8784b85b13df\" class=\"plotly-graph-div\" style=\"height:525px; width:100%;\"></div>            <script type=\"text/javascript\">                require([\"plotly\"], function(Plotly) {                    window.PLOTLYENV=window.PLOTLYENV || {};                                    if (document.getElementById(\"b29eb607-4554-4a62-85eb-8784b85b13df\")) {                    Plotly.newPlot(                        \"b29eb607-4554-4a62-85eb-8784b85b13df\",                        [{\"name\":\"LGES\",\"x\":[\"2024-06-30T00:00:00\",\"2024-09-30T00:00:00\",\"2024-12-31T00:00:00\",\"2025-03-31T00:00:00\"],\"y\":[-172.1128002509687,717.8722701192587,-119.12409274623673,-526.6364759160148],\"type\":\"scatter\"},{\"name\":\"Samsung SDI\",\"x\":[\"2024-06-30T00:00:00\",\"2024-09-30T00:00:00\",\"2024-12-31T00:00:00\",\"2025-03-31T00:00:00\"],\"y\":[79.48592877700439,113.13228940805465,-75.76933319822851,-61.756535696871325],\"type\":\"scatter\"},{\"name\":\"Panasonic\",\"x\":[\"2024-06-30T00:00:00\",\"2024-09-30T00:00:00\",\"2024-12-31T00:00:00\",\"2025-03-31T00:00:00\"],\"y\":[null,null,null,null],\"type\":\"scatter\"},{\"name\":\"CATL\",\"x\":[\"2024-06-30T00:00:00\",\"2024-09-30T00:00:00\",\"2024-12-31T00:00:00\",\"2025-03-31T00:00:00\"],\"y\":[61.159513596368996,97.76444729813865,75.40676788543821,77.00072379461031],\"type\":\"scatter\"},{\"name\":\"BYD\",\"x\":[\"2024-06-30T00:00:00\",\"2024-09-30T00:00:00\",\"2024-12-31T00:00:00\",\"2025-03-31T00:00:00\"],\"y\":[73.25761064900509,75.04478638665609,50.024035943140404,128.201987256011],\"type\":\"scatter\"},{\"name\":\"SK Innovation\",\"x\":[\"2024-06-30T00:00:00\",\"2024-09-30T00:00:00\",\"2024-12-31T00:00:00\",\"2025-03-31T00:00:00\"],\"y\":[-18.92507271149216,-17.707275219011276,-16.63701015194504,-71.53161076956057],\"type\":\"scatter\"}],                        {\"template\":{\"data\":{\"histogram2dcontour\":[{\"type\":\"histogram2dcontour\",\"colorbar\":{\"outlinewidth\":0,\"ticks\":\"\"},\"colorscale\":[[0.0,\"#0d0887\"],[0.1111111111111111,\"#46039f\"],[0.2222222222222222,\"#7201a8\"],[0.3333333333333333,\"#9c179e\"],[0.4444444444444444,\"#bd3786\"],[0.5555555555555556,\"#d8576b\"],[0.6666666666666666,\"#ed7953\"],[0.7777777777777778,\"#fb9f3a\"],[0.8888888888888888,\"#fdca26\"],[1.0,\"#f0f921\"]]}],\"choropleth\":[{\"type\":\"choropleth\",\"colorbar\":{\"outlinewidth\":0,\"ticks\":\"\"}}],\"histogram2d\":[{\"type\":\"histogram2d\",\"colorbar\":{\"outlinewidth\":0,\"ticks\":\"\"},\"colorscale\":[[0.0,\"#0d0887\"],[0.1111111111111111,\"#46039f\"],[0.2222222222222222,\"#7201a8\"],[0.3333333333333333,\"#9c179e\"],[0.4444444444444444,\"#bd3786\"],[0.5555555555555556,\"#d8576b\"],[0.6666666666666666,\"#ed7953\"],[0.7777777777777778,\"#fb9f3a\"],[0.8888888888888888,\"#fdca26\"],[1.0,\"#f0f921\"]]}],\"heatmap\":[{\"type\":\"heatmap\",\"colorbar\":{\"outlinewidth\":0,\"ticks\":\"\"},\"colorscale\":[[0.0,\"#0d0887\"],[0.1111111111111111,\"#46039f\"],[0.2222222222222222,\"#7201a8\"],[0.3333333333333333,\"#9c179e\"],[0.4444444444444444,\"#bd3786\"],[0.5555555555555556,\"#d8576b\"],[0.6666666666666666,\"#ed7953\"],[0.7777777777777778,\"#fb9f3a\"],[0.8888888888888888,\"#fdca26\"],[1.0,\"#f0f921\"]]}],\"heatmapgl\":[{\"type\":\"heatmapgl\",\"colorbar\":{\"outlinewidth\":0,\"ticks\":\"\"},\"colorscale\":[[0.0,\"#0d0887\"],[0.1111111111111111,\"#46039f\"],[0.2222222222222222,\"#7201a8\"],[0.3333333333333333,\"#9c179e\"],[0.4444444444444444,\"#bd3786\"],[0.5555555555555556,\"#d8576b\"],[0.6666666666666666,\"#ed7953\"],[0.7777777777777778,\"#fb9f3a\"],[0.8888888888888888,\"#fdca26\"],[1.0,\"#f0f921\"]]}],\"contourcarpet\":[{\"type\":\"contourcarpet\",\"colorbar\":{\"outlinewidth\":0,\"ticks\":\"\"}}],\"contour\":[{\"type\":\"contour\",\"colorbar\":{\"outlinewidth\":0,\"ticks\":\"\"},\"colorscale\":[[0.0,\"#0d0887\"],[0.1111111111111111,\"#46039f\"],[0.2222222222222222,\"#7201a8\"],[0.3333333333333333,\"#9c179e\"],[0.4444444444444444,\"#bd3786\"],[0.5555555555555556,\"#d8576b\"],[0.6666666666666666,\"#ed7953\"],[0.7777777777777778,\"#fb9f3a\"],[0.8888888888888888,\"#fdca26\"],[1.0,\"#f0f921\"]]}],\"surface\":[{\"type\":\"surface\",\"colorbar\":{\"outlinewidth\":0,\"ticks\":\"\"},\"colorscale\":[[0.0,\"#0d0887\"],[0.1111111111111111,\"#46039f\"],[0.2222222222222222,\"#7201a8\"],[0.3333333333333333,\"#9c179e\"],[0.4444444444444444,\"#bd3786\"],[0.5555555555555556,\"#d8576b\"],[0.6666666666666666,\"#ed7953\"],[0.7777777777777778,\"#fb9f3a\"],[0.8888888888888888,\"#fdca26\"],[1.0,\"#f0f921\"]]}],\"mesh3d\":[{\"type\":\"mesh3d\",\"colorbar\":{\"outlinewidth\":0,\"ticks\":\"\"}}],\"scatter\":[{\"fillpattern\":{\"fillmode\":\"overlay\",\"size\":10,\"solidity\":0.2},\"type\":\"scatter\"}],\"parcoords\":[{\"type\":\"parcoords\",\"line\":{\"colorbar\":{\"outlinewidth\":0,\"ticks\":\"\"}}}],\"scatterpolargl\":[{\"type\":\"scatterpolargl\",\"marker\":{\"colorbar\":{\"outlinewidth\":0,\"ticks\":\"\"}}}],\"bar\":[{\"error_x\":{\"color\":\"#2a3f5f\"},\"error_y\":{\"color\":\"#2a3f5f\"},\"marker\":{\"line\":{\"color\":\"#E5ECF6\",\"width\":0.5},\"pattern\":{\"fillmode\":\"overlay\",\"size\":10,\"solidity\":0.2}},\"type\":\"bar\"}],\"scattergeo\":[{\"type\":\"scattergeo\",\"marker\":{\"colorbar\":{\"outlinewidth\":0,\"ticks\":\"\"}}}],\"scatterpolar\":[{\"type\":\"scatterpolar\",\"marker\":{\"colorbar\":{\"outlinewidth\":0,\"ticks\":\"\"}}}],\"histogram\":[{\"marker\":{\"pattern\":{\"fillmode\":\"overlay\",\"size\":10,\"solidity\":0.2}},\"type\":\"histogram\"}],\"scattergl\":[{\"type\":\"scattergl\",\"marker\":{\"colorbar\":{\"outlinewidth\":0,\"ticks\":\"\"}}}],\"scatter3d\":[{\"type\":\"scatter3d\",\"line\":{\"colorbar\":{\"outlinewidth\":0,\"ticks\":\"\"}},\"marker\":{\"colorbar\":{\"outlinewidth\":0,\"ticks\":\"\"}}}],\"scattermapbox\":[{\"type\":\"scattermapbox\",\"marker\":{\"colorbar\":{\"outlinewidth\":0,\"ticks\":\"\"}}}],\"scatterternary\":[{\"type\":\"scatterternary\",\"marker\":{\"colorbar\":{\"outlinewidth\":0,\"ticks\":\"\"}}}],\"scattercarpet\":[{\"type\":\"scattercarpet\",\"marker\":{\"colorbar\":{\"outlinewidth\":0,\"ticks\":\"\"}}}],\"carpet\":[{\"aaxis\":{\"endlinecolor\":\"#2a3f5f\",\"gridcolor\":\"white\",\"linecolor\":\"white\",\"minorgridcolor\":\"white\",\"startlinecolor\":\"#2a3f5f\"},\"baxis\":{\"endlinecolor\":\"#2a3f5f\",\"gridcolor\":\"white\",\"linecolor\":\"white\",\"minorgridcolor\":\"white\",\"startlinecolor\":\"#2a3f5f\"},\"type\":\"carpet\"}],\"table\":[{\"cells\":{\"fill\":{\"color\":\"#EBF0F8\"},\"line\":{\"color\":\"white\"}},\"header\":{\"fill\":{\"color\":\"#C8D4E3\"},\"line\":{\"color\":\"white\"}},\"type\":\"table\"}],\"barpolar\":[{\"marker\":{\"line\":{\"color\":\"#E5ECF6\",\"width\":0.5},\"pattern\":{\"fillmode\":\"overlay\",\"size\":10,\"solidity\":0.2}},\"type\":\"barpolar\"}],\"pie\":[{\"automargin\":true,\"type\":\"pie\"}]},\"layout\":{\"autotypenumbers\":\"strict\",\"colorway\":[\"#636efa\",\"#EF553B\",\"#00cc96\",\"#ab63fa\",\"#FFA15A\",\"#19d3f3\",\"#FF6692\",\"#B6E880\",\"#FF97FF\",\"#FECB52\"],\"font\":{\"color\":\"#2a3f5f\"},\"hovermode\":\"closest\",\"hoverlabel\":{\"align\":\"left\"},\"paper_bgcolor\":\"white\",\"plot_bgcolor\":\"#E5ECF6\",\"polar\":{\"bgcolor\":\"#E5ECF6\",\"angularaxis\":{\"gridcolor\":\"white\",\"linecolor\":\"white\",\"ticks\":\"\"},\"radialaxis\":{\"gridcolor\":\"white\",\"linecolor\":\"white\",\"ticks\":\"\"}},\"ternary\":{\"bgcolor\":\"#E5ECF6\",\"aaxis\":{\"gridcolor\":\"white\",\"linecolor\":\"white\",\"ticks\":\"\"},\"baxis\":{\"gridcolor\":\"white\",\"linecolor\":\"white\",\"ticks\":\"\"},\"caxis\":{\"gridcolor\":\"white\",\"linecolor\":\"white\",\"ticks\":\"\"}},\"coloraxis\":{\"colorbar\":{\"outlinewidth\":0,\"ticks\":\"\"}},\"colorscale\":{\"sequential\":[[0.0,\"#0d0887\"],[0.1111111111111111,\"#46039f\"],[0.2222222222222222,\"#7201a8\"],[0.3333333333333333,\"#9c179e\"],[0.4444444444444444,\"#bd3786\"],[0.5555555555555556,\"#d8576b\"],[0.6666666666666666,\"#ed7953\"],[0.7777777777777778,\"#fb9f3a\"],[0.8888888888888888,\"#fdca26\"],[1.0,\"#f0f921\"]],\"sequentialminus\":[[0.0,\"#0d0887\"],[0.1111111111111111,\"#46039f\"],[0.2222222222222222,\"#7201a8\"],[0.3333333333333333,\"#9c179e\"],[0.4444444444444444,\"#bd3786\"],[0.5555555555555556,\"#d8576b\"],[0.6666666666666666,\"#ed7953\"],[0.7777777777777778,\"#fb9f3a\"],[0.8888888888888888,\"#fdca26\"],[1.0,\"#f0f921\"]],\"diverging\":[[0,\"#8e0152\"],[0.1,\"#c51b7d\"],[0.2,\"#de77ae\"],[0.3,\"#f1b6da\"],[0.4,\"#fde0ef\"],[0.5,\"#f7f7f7\"],[0.6,\"#e6f5d0\"],[0.7,\"#b8e186\"],[0.8,\"#7fbc41\"],[0.9,\"#4d9221\"],[1,\"#276419\"]]},\"xaxis\":{\"gridcolor\":\"white\",\"linecolor\":\"white\",\"ticks\":\"\",\"title\":{\"standoff\":15},\"zerolinecolor\":\"white\",\"automargin\":true,\"zerolinewidth\":2},\"yaxis\":{\"gridcolor\":\"white\",\"linecolor\":\"white\",\"ticks\":\"\",\"title\":{\"standoff\":15},\"zerolinecolor\":\"white\",\"automargin\":true,\"zerolinewidth\":2},\"scene\":{\"xaxis\":{\"backgroundcolor\":\"#E5ECF6\",\"gridcolor\":\"white\",\"linecolor\":\"white\",\"showbackground\":true,\"ticks\":\"\",\"zerolinecolor\":\"white\",\"gridwidth\":2},\"yaxis\":{\"backgroundcolor\":\"#E5ECF6\",\"gridcolor\":\"white\",\"linecolor\":\"white\",\"showbackground\":true,\"ticks\":\"\",\"zerolinecolor\":\"white\",\"gridwidth\":2},\"zaxis\":{\"backgroundcolor\":\"#E5ECF6\",\"gridcolor\":\"white\",\"linecolor\":\"white\",\"showbackground\":true,\"ticks\":\"\",\"zerolinecolor\":\"white\",\"gridwidth\":2}},\"shapedefaults\":{\"line\":{\"color\":\"#2a3f5f\"}},\"annotationdefaults\":{\"arrowcolor\":\"#2a3f5f\",\"arrowhead\":0,\"arrowwidth\":1},\"geo\":{\"bgcolor\":\"white\",\"landcolor\":\"#E5ECF6\",\"subunitcolor\":\"white\",\"showland\":true,\"showlakes\":true,\"lakecolor\":\"white\"},\"title\":{\"x\":0.05},\"mapbox\":{\"style\":\"light\"}}},\"xaxis\":{\"rangeslider\":{\"visible\":false},\"title\":{\"text\":\"Date\"}},\"title\":{\"text\":\"PER comparison chart\"}},                        {\"responsive\": true}                    ).then(function(){\n",
       "                            \n",
       "var gd = document.getElementById('b29eb607-4554-4a62-85eb-8784b85b13df');\n",
       "var x = new MutationObserver(function (mutations, observer) {{\n",
       "        var display = window.getComputedStyle(gd).display;\n",
       "        if (!display || display === 'none') {{\n",
       "            console.log([gd, 'removed!']);\n",
       "            Plotly.purge(gd);\n",
       "            observer.disconnect();\n",
       "        }}\n",
       "}});\n",
       "\n",
       "// Listen for the removal of the full notebook cells\n",
       "var notebookContainer = gd.closest('#notebook-container');\n",
       "if (notebookContainer) {{\n",
       "    x.observe(notebookContainer, {childList: true});\n",
       "}}\n",
       "\n",
       "// Listen for the clearing of the current output cell\n",
       "var outputEl = gd.closest('.output');\n",
       "if (outputEl) {{\n",
       "    x.observe(outputEl, {childList: true});\n",
       "}}\n",
       "\n",
       "                        })                };                });            </script>        </div>"
      ]
     },
     "metadata": {},
     "output_type": "display_data"
    },
    {
     "name": "stdout",
     "output_type": "stream",
     "text": [
      "\n",
      "LGES has negative P/E meaning that it has negative income. \n",
      "Also we see lot of quarterly fluctuation in Korean battery industry (SK Innovation is excluded since it contains other industries).\n",
      "While Korean battery market was fluctuating, Chinese companies have been pretty consistent.\n",
      "\n",
      "Overall all Korean companies are suffering from negative income. Samsung SDI is only company where negative became smaller.\n",
      "\n",
      "Chinese companies show increased P/E which can be due to\n",
      "1. Increased valuation\n",
      "2. Lower Net income\n",
      "So further analysis is necessary\n",
      "\n",
      "\n"
     ]
    }
   ],
   "source": [
    "fig = create_comparison_chart(compare_per_df.iloc[3:], \"PER comparison chart\")\n",
    "display(compare_per_df.iloc[3:])\n",
    "fig.show()\n",
    "print()\n",
    "print(\"\"\"LGES has negative P/E meaning that it has negative income. \n",
    "Also we see lot of quarterly fluctuation in Korean battery industry (SK Innovation is excluded since it contains other industries).\n",
    "While Korean battery market was fluctuating, Chinese companies have been pretty consistent.\n",
    "\n",
    "Overall all Korean companies are suffering from negative income. Samsung SDI is only company where negative became smaller.\n",
    "\n",
    "Chinese companies show increased P/E which can be due to\n",
    "1. Increased valuation\n",
    "2. Lower Net income\n",
    "So further analysis is necessary\n",
    "\n",
    "\"\"\")"
   ]
  },
  {
   "cell_type": "markdown",
   "id": "0644b3b8-579b-47c2-a58b-d8a8e98da6da",
   "metadata": {},
   "source": [
    "We can "
   ]
  },
  {
   "cell_type": "code",
   "execution_count": 169,
   "id": "701d23d4-8c53-44d2-804e-b5b745ab23e2",
   "metadata": {},
   "outputs": [
    {
     "data": {
      "text/plain": [
       "\"pd.DataFrame({'date': ['2024-06-30', '2024-09-30', '2024-12-31', '2025-03-31'], 'LGES': [-172.1128002509687, 717.8722701192587, -119.12409274623673, -526.6364759160148], 'Samsung SDI': [79.48592877700439, 113.13228940805465, -75.76933319822851, -61.756535696871325], 'Panasonic': [nan, nan, nan, nan], 'CATL': [61.159513596368996, 97.76444729813865, 75.40676788543821, 77.00072379461031], 'BYD': [73.25761064900509, 75.04478638665609, 50.024035943140404, 128.201987256011], 'SK Innovation': [-18.92507271149216, -17.707275219011276, -16.63701015194504, -71.53161076956057]})\""
      ]
     },
     "execution_count": 169,
     "metadata": {},
     "output_type": "execute_result"
    }
   ],
   "source": [
    "df_to_DFloader(compare_per_df.iloc[3:])"
   ]
  },
  {
   "cell_type": "code",
   "execution_count": 104,
   "id": "fac6a66f-2479-4c1c-bf66-212e776798c6",
   "metadata": {},
   "outputs": [
    {
     "data": {
      "text/html": [
       "<div>\n",
       "<style scoped>\n",
       "    .dataframe tbody tr th:only-of-type {\n",
       "        vertical-align: middle;\n",
       "    }\n",
       "\n",
       "    .dataframe tbody tr th {\n",
       "        vertical-align: top;\n",
       "    }\n",
       "\n",
       "    .dataframe thead th {\n",
       "        text-align: right;\n",
       "    }\n",
       "</style>\n",
       "<table border=\"1\" class=\"dataframe\">\n",
       "  <thead>\n",
       "    <tr style=\"text-align: right;\">\n",
       "      <th></th>\n",
       "      <th>net_income</th>\n",
       "      <th>share_issued</th>\n",
       "      <th>eps</th>\n",
       "      <th>Close_t+1</th>\n",
       "      <th>per</th>\n",
       "    </tr>\n",
       "  </thead>\n",
       "  <tbody>\n",
       "    <tr>\n",
       "      <th>2025-03-31</th>\n",
       "      <td>-145740000000.0</td>\n",
       "      <td>234000000.0</td>\n",
       "      <td>-622.820513</td>\n",
       "      <td>328000.0</td>\n",
       "      <td>-526.636476</td>\n",
       "    </tr>\n",
       "    <tr>\n",
       "      <th>2024-12-31</th>\n",
       "      <td>-679661000000.0</td>\n",
       "      <td>234000000.0</td>\n",
       "      <td>-2904.534188</td>\n",
       "      <td>346000.0</td>\n",
       "      <td>-119.124093</td>\n",
       "    </tr>\n",
       "    <tr>\n",
       "      <th>2024-09-30</th>\n",
       "      <td>133156000000.0</td>\n",
       "      <td>234000000.0</td>\n",
       "      <td>569.042735</td>\n",
       "      <td>408500.0</td>\n",
       "      <td>717.87227</td>\n",
       "    </tr>\n",
       "    <tr>\n",
       "      <th>2024-06-30</th>\n",
       "      <td>-471772000000.0</td>\n",
       "      <td>234000000.0</td>\n",
       "      <td>-2016.119658</td>\n",
       "      <td>347000.0</td>\n",
       "      <td>-172.1128</td>\n",
       "    </tr>\n",
       "    <tr>\n",
       "      <th>2024-03-31</th>\n",
       "      <td>-464000000.0</td>\n",
       "      <td>234000000.0</td>\n",
       "      <td>-1.982906</td>\n",
       "      <td>395500.0</td>\n",
       "      <td>-199454.741379</td>\n",
       "    </tr>\n",
       "    <tr>\n",
       "      <th>2023-12-31</th>\n",
       "      <td>NaN</td>\n",
       "      <td>234000000.0</td>\n",
       "      <td>NaN</td>\n",
       "      <td>429500.0</td>\n",
       "      <td>NaN</td>\n",
       "    </tr>\n",
       "    <tr>\n",
       "      <th>2023-09-30</th>\n",
       "      <td>NaN</td>\n",
       "      <td>NaN</td>\n",
       "      <td>NaN</td>\n",
       "      <td>456000.0</td>\n",
       "      <td>NaN</td>\n",
       "    </tr>\n",
       "  </tbody>\n",
       "</table>\n",
       "</div>"
      ],
      "text/plain": [
       "                net_income  share_issued          eps  Close_t+1  \\\n",
       "2025-03-31 -145740000000.0   234000000.0  -622.820513   328000.0   \n",
       "2024-12-31 -679661000000.0   234000000.0 -2904.534188   346000.0   \n",
       "2024-09-30  133156000000.0   234000000.0   569.042735   408500.0   \n",
       "2024-06-30 -471772000000.0   234000000.0 -2016.119658   347000.0   \n",
       "2024-03-31    -464000000.0   234000000.0    -1.982906   395500.0   \n",
       "2023-12-31             NaN   234000000.0          NaN   429500.0   \n",
       "2023-09-30             NaN           NaN          NaN   456000.0   \n",
       "\n",
       "                      per  \n",
       "2025-03-31    -526.636476  \n",
       "2024-12-31    -119.124093  \n",
       "2024-09-30      717.87227  \n",
       "2024-06-30      -172.1128  \n",
       "2024-03-31 -199454.741379  \n",
       "2023-12-31            NaN  \n",
       "2023-09-30            NaN  "
      ]
     },
     "execution_count": 104,
     "metadata": {},
     "output_type": "execute_result"
    }
   ],
   "source": [
    "stock_info['fundamental_analysis_df']"
   ]
  },
  {
   "cell_type": "code",
   "execution_count": 100,
   "id": "ee02aa84-21c3-4124-86b4-e010130414db",
   "metadata": {},
   "outputs": [],
   "source": [
    "stock_info['competitors'] = competitors"
   ]
  },
  {
   "cell_type": "code",
   "execution_count": 60,
   "id": "153185e6-77a5-4161-b871-0372f1e5d010",
   "metadata": {},
   "outputs": [
    {
     "data": {
      "text/plain": [
       "dict_keys(['Samsung SDI', 'Panasonic', 'CATL', 'BYD', 'SK Innovation'])"
      ]
     },
     "execution_count": 60,
     "metadata": {},
     "output_type": "execute_result"
    }
   ],
   "source": [
    "competitors.keys()"
   ]
  },
  {
   "cell_type": "code",
   "execution_count": 132,
   "id": "1010dc1c-eacc-4499-9a13-4391f53028ff",
   "metadata": {},
   "outputs": [],
   "source": [
    "# PER comparison\n",
    "compare_per_df = stock_info['fundamental_analysis_df'][['per']].rename(columns={\"per\":\"LGES\"})\n",
    "\n",
    "for comp_nm, stk_info in stock_info['competitors'].items():\n",
    "    comp_per_df = stk_info['fundamental_analysis_df'][['per']].rename(columns={\"per\":comp_nm})\n",
    "    compare_per_df = pd.merge(compare_per_df, comp_per_df, how='left', left_index=True, right_index=True)"
   ]
  },
  {
   "cell_type": "code",
   "execution_count": 137,
   "id": "86c45d8f-6f09-4980-b4f0-c440260592b3",
   "metadata": {},
   "outputs": [
    {
     "data": {
      "text/html": [
       "<div>\n",
       "<style scoped>\n",
       "    .dataframe tbody tr th:only-of-type {\n",
       "        vertical-align: middle;\n",
       "    }\n",
       "\n",
       "    .dataframe tbody tr th {\n",
       "        vertical-align: top;\n",
       "    }\n",
       "\n",
       "    .dataframe thead th {\n",
       "        text-align: right;\n",
       "    }\n",
       "</style>\n",
       "<table border=\"1\" class=\"dataframe\">\n",
       "  <thead>\n",
       "    <tr style=\"text-align: right;\">\n",
       "      <th></th>\n",
       "      <th>LGES</th>\n",
       "      <th>Samsung SDI</th>\n",
       "      <th>Panasonic</th>\n",
       "      <th>CATL</th>\n",
       "      <th>BYD</th>\n",
       "      <th>SK Innovation</th>\n",
       "    </tr>\n",
       "  </thead>\n",
       "  <tbody>\n",
       "    <tr>\n",
       "      <th>2023-09-30</th>\n",
       "      <td>NaN</td>\n",
       "      <td>NaN</td>\n",
       "      <td>45.159589</td>\n",
       "      <td>NaN</td>\n",
       "      <td>NaN</td>\n",
       "      <td>NaN</td>\n",
       "    </tr>\n",
       "    <tr>\n",
       "      <th>2023-12-31</th>\n",
       "      <td>NaN</td>\n",
       "      <td>NaN</td>\n",
       "      <td>30.467653</td>\n",
       "      <td>NaN</td>\n",
       "      <td>NaN</td>\n",
       "      <td>NaN</td>\n",
       "    </tr>\n",
       "    <tr>\n",
       "      <th>2024-03-31</th>\n",
       "      <td>-199454.741379</td>\n",
       "      <td>116.276866</td>\n",
       "      <td>74.166865</td>\n",
       "      <td>78.852915</td>\n",
       "      <td>127.164127</td>\n",
       "      <td>-159.866282</td>\n",
       "    </tr>\n",
       "    <tr>\n",
       "      <th>2024-06-30</th>\n",
       "      <td>-172.1128</td>\n",
       "      <td>79.485929</td>\n",
       "      <td>NaN</td>\n",
       "      <td>61.159514</td>\n",
       "      <td>73.257611</td>\n",
       "      <td>-18.925073</td>\n",
       "    </tr>\n",
       "    <tr>\n",
       "      <th>2024-09-30</th>\n",
       "      <td>717.87227</td>\n",
       "      <td>113.132289</td>\n",
       "      <td>NaN</td>\n",
       "      <td>97.764447</td>\n",
       "      <td>75.044786</td>\n",
       "      <td>-17.707275</td>\n",
       "    </tr>\n",
       "    <tr>\n",
       "      <th>2024-12-31</th>\n",
       "      <td>-119.124093</td>\n",
       "      <td>-75.769333</td>\n",
       "      <td>NaN</td>\n",
       "      <td>75.406768</td>\n",
       "      <td>50.024036</td>\n",
       "      <td>-16.63701</td>\n",
       "    </tr>\n",
       "    <tr>\n",
       "      <th>2025-03-31</th>\n",
       "      <td>-526.636476</td>\n",
       "      <td>-61.756536</td>\n",
       "      <td>NaN</td>\n",
       "      <td>77.000724</td>\n",
       "      <td>128.201987</td>\n",
       "      <td>-71.531611</td>\n",
       "    </tr>\n",
       "  </tbody>\n",
       "</table>\n",
       "</div>"
      ],
      "text/plain": [
       "                     LGES Samsung SDI  Panasonic       CATL         BYD  \\\n",
       "2023-09-30            NaN         NaN  45.159589        NaN         NaN   \n",
       "2023-12-31            NaN         NaN  30.467653        NaN         NaN   \n",
       "2024-03-31 -199454.741379  116.276866  74.166865  78.852915  127.164127   \n",
       "2024-06-30      -172.1128   79.485929        NaN  61.159514   73.257611   \n",
       "2024-09-30      717.87227  113.132289        NaN  97.764447   75.044786   \n",
       "2024-12-31    -119.124093  -75.769333        NaN  75.406768   50.024036   \n",
       "2025-03-31    -526.636476  -61.756536        NaN  77.000724  128.201987   \n",
       "\n",
       "           SK Innovation  \n",
       "2023-09-30           NaN  \n",
       "2023-12-31           NaN  \n",
       "2024-03-31   -159.866282  \n",
       "2024-06-30    -18.925073  \n",
       "2024-09-30    -17.707275  \n",
       "2024-12-31     -16.63701  \n",
       "2025-03-31    -71.531611  "
      ]
     },
     "execution_count": 137,
     "metadata": {},
     "output_type": "execute_result"
    }
   ],
   "source": [
    "compare_per_df"
   ]
  },
  {
   "cell_type": "code",
   "execution_count": 66,
   "id": "e409a49d-5a08-4544-af7f-21cfb7ec0df0",
   "metadata": {},
   "outputs": [
    {
     "data": {
      "text/html": [
       "<div>\n",
       "<style scoped>\n",
       "    .dataframe tbody tr th:only-of-type {\n",
       "        vertical-align: middle;\n",
       "    }\n",
       "\n",
       "    .dataframe tbody tr th {\n",
       "        vertical-align: top;\n",
       "    }\n",
       "\n",
       "    .dataframe thead th {\n",
       "        text-align: right;\n",
       "    }\n",
       "</style>\n",
       "<table border=\"1\" class=\"dataframe\">\n",
       "  <thead>\n",
       "    <tr style=\"text-align: right;\">\n",
       "      <th></th>\n",
       "      <th>net_income</th>\n",
       "      <th>share_issued</th>\n",
       "      <th>eps</th>\n",
       "      <th>Close_t+1</th>\n",
       "      <th>per</th>\n",
       "    </tr>\n",
       "  </thead>\n",
       "  <tbody>\n",
       "    <tr>\n",
       "      <th>2023-12-31</th>\n",
       "      <td>NaN</td>\n",
       "      <td>NaN</td>\n",
       "      <td>NaN</td>\n",
       "      <td>149.339371</td>\n",
       "      <td>NaN</td>\n",
       "    </tr>\n",
       "    <tr>\n",
       "      <th>2024-03-31</th>\n",
       "      <td>10509923000.0</td>\n",
       "      <td>4.399041e+09</td>\n",
       "      <td>2.389139</td>\n",
       "      <td>188.390610</td>\n",
       "      <td>78.852915</td>\n",
       "    </tr>\n",
       "    <tr>\n",
       "      <th>2024-06-30</th>\n",
       "      <td>12355064200.0</td>\n",
       "      <td>4.398807e+09</td>\n",
       "      <td>2.808731</td>\n",
       "      <td>171.780594</td>\n",
       "      <td>61.159514</td>\n",
       "    </tr>\n",
       "    <tr>\n",
       "      <th>2024-09-30</th>\n",
       "      <td>13136086400.0</td>\n",
       "      <td>4.402376e+09</td>\n",
       "      <td>2.983863</td>\n",
       "      <td>291.715729</td>\n",
       "      <td>97.764447</td>\n",
       "    </tr>\n",
       "    <tr>\n",
       "      <th>2024-12-31</th>\n",
       "      <td>14743608200.0</td>\n",
       "      <td>4.403466e+09</td>\n",
       "      <td>3.348182</td>\n",
       "      <td>252.475601</td>\n",
       "      <td>75.406768</td>\n",
       "    </tr>\n",
       "    <tr>\n",
       "      <th>2025-03-31</th>\n",
       "      <td>13962558000.0</td>\n",
       "      <td>4.403395e+09</td>\n",
       "      <td>3.170862</td>\n",
       "      <td>244.158676</td>\n",
       "      <td>77.000724</td>\n",
       "    </tr>\n",
       "  </tbody>\n",
       "</table>\n",
       "</div>"
      ],
      "text/plain": [
       "               net_income  share_issued       eps   Close_t+1        per\n",
       "2023-12-31            NaN           NaN       NaN  149.339371        NaN\n",
       "2024-03-31  10509923000.0  4.399041e+09  2.389139  188.390610  78.852915\n",
       "2024-06-30  12355064200.0  4.398807e+09  2.808731  171.780594  61.159514\n",
       "2024-09-30  13136086400.0  4.402376e+09  2.983863  291.715729  97.764447\n",
       "2024-12-31  14743608200.0  4.403466e+09  3.348182  252.475601  75.406768\n",
       "2025-03-31  13962558000.0  4.403395e+09  3.170862  244.158676  77.000724"
      ]
     },
     "execution_count": 66,
     "metadata": {},
     "output_type": "execute_result"
    }
   ],
   "source": [
    "competitors['CATL']['fundamental_analysis_df']"
   ]
  },
  {
   "cell_type": "code",
   "execution_count": 68,
   "id": "11274980-3c2c-42cb-a505-3f9365cbe921",
   "metadata": {},
   "outputs": [
    {
     "data": {
      "text/html": [
       "<div>\n",
       "<style scoped>\n",
       "    .dataframe tbody tr th:only-of-type {\n",
       "        vertical-align: middle;\n",
       "    }\n",
       "\n",
       "    .dataframe tbody tr th {\n",
       "        vertical-align: top;\n",
       "    }\n",
       "\n",
       "    .dataframe thead th {\n",
       "        text-align: right;\n",
       "    }\n",
       "</style>\n",
       "<table border=\"1\" class=\"dataframe\">\n",
       "  <thead>\n",
       "    <tr style=\"text-align: right;\">\n",
       "      <th></th>\n",
       "      <th>net_income</th>\n",
       "      <th>share_issued</th>\n",
       "      <th>eps</th>\n",
       "      <th>Close_t+1</th>\n",
       "      <th>per</th>\n",
       "    </tr>\n",
       "  </thead>\n",
       "  <tbody>\n",
       "    <tr>\n",
       "      <th>2025-03-31</th>\n",
       "      <td>-228953594000.0</td>\n",
       "      <td>148750403.0</td>\n",
       "      <td>-1539.179655</td>\n",
       "      <td>110100.000000</td>\n",
       "      <td>-71.531611</td>\n",
       "    </tr>\n",
       "    <tr>\n",
       "      <th>2024-12-31</th>\n",
       "      <td>-997935498000.0</td>\n",
       "      <td>152283202.0</td>\n",
       "      <td>-6553.155469</td>\n",
       "      <td>109024.914062</td>\n",
       "      <td>-16.63701</td>\n",
       "    </tr>\n",
       "    <tr>\n",
       "      <th>2024-09-30</th>\n",
       "      <td>-616533478000.0</td>\n",
       "      <td>95735590.0</td>\n",
       "      <td>-6439.961126</td>\n",
       "      <td>114034.164062</td>\n",
       "      <td>-17.707275</td>\n",
       "    </tr>\n",
       "    <tr>\n",
       "      <th>2024-06-30</th>\n",
       "      <td>-572885632000.0</td>\n",
       "      <td>95735590.0</td>\n",
       "      <td>-5984.040334</td>\n",
       "      <td>113248.398438</td>\n",
       "      <td>-18.925073</td>\n",
       "    </tr>\n",
       "    <tr>\n",
       "      <th>2024-03-31</th>\n",
       "      <td>-72602532000.0</td>\n",
       "      <td>100655564.0</td>\n",
       "      <td>-721.296758</td>\n",
       "      <td>115311.031250</td>\n",
       "      <td>-159.866282</td>\n",
       "    </tr>\n",
       "    <tr>\n",
       "      <th>2023-12-31</th>\n",
       "      <td>NaN</td>\n",
       "      <td>NaN</td>\n",
       "      <td>NaN</td>\n",
       "      <td>137705.343750</td>\n",
       "      <td>NaN</td>\n",
       "    </tr>\n",
       "    <tr>\n",
       "      <th>2023-09-30</th>\n",
       "      <td>NaN</td>\n",
       "      <td>NaN</td>\n",
       "      <td>NaN</td>\n",
       "      <td>138589.328125</td>\n",
       "      <td>NaN</td>\n",
       "    </tr>\n",
       "  </tbody>\n",
       "</table>\n",
       "</div>"
      ],
      "text/plain": [
       "                net_income  share_issued          eps      Close_t+1  \\\n",
       "2025-03-31 -228953594000.0   148750403.0 -1539.179655  110100.000000   \n",
       "2024-12-31 -997935498000.0   152283202.0 -6553.155469  109024.914062   \n",
       "2024-09-30 -616533478000.0    95735590.0 -6439.961126  114034.164062   \n",
       "2024-06-30 -572885632000.0    95735590.0 -5984.040334  113248.398438   \n",
       "2024-03-31  -72602532000.0   100655564.0  -721.296758  115311.031250   \n",
       "2023-12-31             NaN           NaN          NaN  137705.343750   \n",
       "2023-09-30             NaN           NaN          NaN  138589.328125   \n",
       "\n",
       "                   per  \n",
       "2025-03-31  -71.531611  \n",
       "2024-12-31   -16.63701  \n",
       "2024-09-30  -17.707275  \n",
       "2024-06-30  -18.925073  \n",
       "2024-03-31 -159.866282  \n",
       "2023-12-31         NaN  \n",
       "2023-09-30         NaN  "
      ]
     },
     "execution_count": 68,
     "metadata": {},
     "output_type": "execute_result"
    }
   ],
   "source": [
    "competitors['SK Innovation']['fundamental_analysis_df']"
   ]
  },
  {
   "cell_type": "code",
   "execution_count": 67,
   "id": "440bb7d4-a055-4092-a476-9342d4d8c8c3",
   "metadata": {},
   "outputs": [
    {
     "data": {
      "text/html": [
       "<div>\n",
       "<style scoped>\n",
       "    .dataframe tbody tr th:only-of-type {\n",
       "        vertical-align: middle;\n",
       "    }\n",
       "\n",
       "    .dataframe tbody tr th {\n",
       "        vertical-align: top;\n",
       "    }\n",
       "\n",
       "    .dataframe thead th {\n",
       "        text-align: right;\n",
       "    }\n",
       "</style>\n",
       "<table border=\"1\" class=\"dataframe\">\n",
       "  <thead>\n",
       "    <tr style=\"text-align: right;\">\n",
       "      <th></th>\n",
       "      <th>net_income</th>\n",
       "      <th>share_issued</th>\n",
       "      <th>eps</th>\n",
       "      <th>Close_t+1</th>\n",
       "      <th>per</th>\n",
       "    </tr>\n",
       "  </thead>\n",
       "  <tbody>\n",
       "    <tr>\n",
       "      <th>2023-09-30</th>\n",
       "      <td>NaN</td>\n",
       "      <td>NaN</td>\n",
       "      <td>NaN</td>\n",
       "      <td>235.035553</td>\n",
       "      <td>NaN</td>\n",
       "    </tr>\n",
       "    <tr>\n",
       "      <th>2023-12-31</th>\n",
       "      <td>NaN</td>\n",
       "      <td>NaN</td>\n",
       "      <td>NaN</td>\n",
       "      <td>206.271759</td>\n",
       "      <td>NaN</td>\n",
       "    </tr>\n",
       "    <tr>\n",
       "      <th>2024-03-31</th>\n",
       "      <td>4568793000.0</td>\n",
       "      <td>2.911143e+09</td>\n",
       "      <td>1.569416</td>\n",
       "      <td>199.573364</td>\n",
       "      <td>127.164127</td>\n",
       "    </tr>\n",
       "    <tr>\n",
       "      <th>2024-06-30</th>\n",
       "      <td>9062464000.0</td>\n",
       "      <td>2.909266e+09</td>\n",
       "      <td>3.115035</td>\n",
       "      <td>228.199997</td>\n",
       "      <td>73.257611</td>\n",
       "    </tr>\n",
       "    <tr>\n",
       "      <th>2024-09-30</th>\n",
       "      <td>11606858000.0</td>\n",
       "      <td>2.909266e+09</td>\n",
       "      <td>3.989618</td>\n",
       "      <td>299.399994</td>\n",
       "      <td>75.044786</td>\n",
       "    </tr>\n",
       "    <tr>\n",
       "      <th>2024-12-31</th>\n",
       "      <td>15016231000.0</td>\n",
       "      <td>2.909266e+09</td>\n",
       "      <td>5.161519</td>\n",
       "      <td>258.200012</td>\n",
       "      <td>50.024036</td>\n",
       "    </tr>\n",
       "    <tr>\n",
       "      <th>2025-03-31</th>\n",
       "      <td>9154985000.0</td>\n",
       "      <td>3.039066e+09</td>\n",
       "      <td>3.012434</td>\n",
       "      <td>386.200012</td>\n",
       "      <td>128.201987</td>\n",
       "    </tr>\n",
       "  </tbody>\n",
       "</table>\n",
       "</div>"
      ],
      "text/plain": [
       "               net_income  share_issued       eps   Close_t+1         per\n",
       "2023-09-30            NaN           NaN       NaN  235.035553         NaN\n",
       "2023-12-31            NaN           NaN       NaN  206.271759         NaN\n",
       "2024-03-31   4568793000.0  2.911143e+09  1.569416  199.573364  127.164127\n",
       "2024-06-30   9062464000.0  2.909266e+09  3.115035  228.199997   73.257611\n",
       "2024-09-30  11606858000.0  2.909266e+09  3.989618  299.399994   75.044786\n",
       "2024-12-31  15016231000.0  2.909266e+09  5.161519  258.200012   50.024036\n",
       "2025-03-31   9154985000.0  3.039066e+09  3.012434  386.200012  128.201987"
      ]
     },
     "execution_count": 67,
     "metadata": {},
     "output_type": "execute_result"
    }
   ],
   "source": [
    "competitors['BYD']['fundamental_analysis_df']"
   ]
  },
  {
   "cell_type": "code",
   "execution_count": 63,
   "id": "f1c9322d-154c-460d-9d8a-c2e1d0a46873",
   "metadata": {},
   "outputs": [
    {
     "data": {
      "text/html": [
       "<div>\n",
       "<style scoped>\n",
       "    .dataframe tbody tr th:only-of-type {\n",
       "        vertical-align: middle;\n",
       "    }\n",
       "\n",
       "    .dataframe tbody tr th {\n",
       "        vertical-align: top;\n",
       "    }\n",
       "\n",
       "    .dataframe thead th {\n",
       "        text-align: right;\n",
       "    }\n",
       "</style>\n",
       "<table border=\"1\" class=\"dataframe\">\n",
       "  <thead>\n",
       "    <tr style=\"text-align: right;\">\n",
       "      <th></th>\n",
       "      <th>net_income</th>\n",
       "      <th>share_issued</th>\n",
       "      <th>eps</th>\n",
       "      <th>Close_t+1</th>\n",
       "      <th>per</th>\n",
       "    </tr>\n",
       "  </thead>\n",
       "  <tbody>\n",
       "    <tr>\n",
       "      <th>2025-03-31</th>\n",
       "      <td>-220547906430.0</td>\n",
       "      <td>71671422.0</td>\n",
       "      <td>-3077.208464</td>\n",
       "      <td>190037.734375</td>\n",
       "      <td>-61.756536</td>\n",
       "    </tr>\n",
       "    <tr>\n",
       "      <th>2024-12-31</th>\n",
       "      <td>-226546873840.0</td>\n",
       "      <td>71671422.0</td>\n",
       "      <td>-3160.909432</td>\n",
       "      <td>239500.000000</td>\n",
       "      <td>-75.769333</td>\n",
       "    </tr>\n",
       "    <tr>\n",
       "      <th>2024-09-30</th>\n",
       "      <td>229712896740.0</td>\n",
       "      <td>70231926.0</td>\n",
       "      <td>3270.775982</td>\n",
       "      <td>370030.375000</td>\n",
       "      <td>113.132289</td>\n",
       "    </tr>\n",
       "    <tr>\n",
       "      <th>2024-06-30</th>\n",
       "      <td>322989885810.0</td>\n",
       "      <td>70231926.0</td>\n",
       "      <td>4598.904006</td>\n",
       "      <td>365548.156250</td>\n",
       "      <td>79.485929</td>\n",
       "    </tr>\n",
       "    <tr>\n",
       "      <th>2024-03-31</th>\n",
       "      <td>273133934090.0</td>\n",
       "      <td>70231926.0</td>\n",
       "      <td>3889.028105</td>\n",
       "      <td>452204.000000</td>\n",
       "      <td>116.276866</td>\n",
       "    </tr>\n",
       "    <tr>\n",
       "      <th>2023-12-31</th>\n",
       "      <td>NaN</td>\n",
       "      <td>NaN</td>\n",
       "      <td>NaN</td>\n",
       "      <td>465152.562500</td>\n",
       "      <td>NaN</td>\n",
       "    </tr>\n",
       "    <tr>\n",
       "      <th>2023-09-30</th>\n",
       "      <td>NaN</td>\n",
       "      <td>NaN</td>\n",
       "      <td>NaN</td>\n",
       "      <td>481523.593750</td>\n",
       "      <td>NaN</td>\n",
       "    </tr>\n",
       "  </tbody>\n",
       "</table>\n",
       "</div>"
      ],
      "text/plain": [
       "                net_income  share_issued          eps      Close_t+1  \\\n",
       "2025-03-31 -220547906430.0    71671422.0 -3077.208464  190037.734375   \n",
       "2024-12-31 -226546873840.0    71671422.0 -3160.909432  239500.000000   \n",
       "2024-09-30  229712896740.0    70231926.0  3270.775982  370030.375000   \n",
       "2024-06-30  322989885810.0    70231926.0  4598.904006  365548.156250   \n",
       "2024-03-31  273133934090.0    70231926.0  3889.028105  452204.000000   \n",
       "2023-12-31             NaN           NaN          NaN  465152.562500   \n",
       "2023-09-30             NaN           NaN          NaN  481523.593750   \n",
       "\n",
       "                   per  \n",
       "2025-03-31  -61.756536  \n",
       "2024-12-31  -75.769333  \n",
       "2024-09-30  113.132289  \n",
       "2024-06-30   79.485929  \n",
       "2024-03-31  116.276866  \n",
       "2023-12-31         NaN  \n",
       "2023-09-30         NaN  "
      ]
     },
     "execution_count": 63,
     "metadata": {},
     "output_type": "execute_result"
    }
   ],
   "source": [
    "competitors['Samsung SDI']['fundamental_analysis_df']"
   ]
  },
  {
   "cell_type": "code",
   "execution_count": null,
   "id": "21633e3f-364b-488b-ab7c-165a82e0e1b1",
   "metadata": {},
   "outputs": [],
   "source": [
    "# Ratio analysis\n",
    "revenue_related_stats = ['Total Revenue', 'Operating Revenue', 'Net Income']\n",
    "cost_related_stats = ['Total Expenses', 'Cost Of Revenue','Operating Expense',\n",
    "        'Other Operating Expenses', 'Interest Expense', 'Tax Provision']\n",
    "\n",
    "dfs = []\n",
    "for nm, ticker in tickers.tickers.items():\n",
    "    stock_nm = stock_name_dict[nm]\n",
    "    industry = ticker.info['industry']\n",
    "    shares_outst = ticker.info['sharesOutstanding']\n",
    "    curr_price = ticker.info['currentPrice'] # ??? Price on announcement date?\n",
    "    balance_sheet = ticker.balance_sheet\n",
    "    income_stmt = ticker.income_stmt\n",
    "    \n",
    "    # ROE\n",
    "    shareholder_equity = balance_sheet.loc['Total Assets'] \\\n",
    "                    - balance_sheet.loc['Total Liabilities Net Minority Interest']\n",
    "    roe = income_stmt.loc['Net Income'] / shareholder_equity\n",
    "    roe.rename(\"roe\", inplace=True)\n",
    "    \n",
    "    # P/E ratio\n",
    "    pe_ratio = curr_price / income_stmt.loc['Basic EPS']\n",
    "    pe_ratio.rename(\"pe_ratio\", inplace=True)\n",
    "    \n",
    "    # P/B ratio\n",
    "    book_value_ps = balance_sheet.loc['Stockholders Equity'] / shares_outst\n",
    "    pb_ratio = curr_price / book_value_ps\n",
    "    pb_ratio.rename(\"pb_ratio\", inplace=True)\n",
    "    \n",
    "    df = pd.concat([roe, pe_ratio, pb_ratio], axis=1)\n",
    "    df['company'] = [stock_nm]*len(roe)\n",
    "    df['industry'] = [industry]*len(roe)\n",
    "\n",
    "    # Revenue/Cost sources\n",
    "    df = add_stats(df, income_stmt, revenue_related_stats)\n",
    "    df = add_stats(df, income_stmt, cost_related_stats)\n",
    "\n",
    "    dfs.append(df)"
   ]
  },
  {
   "cell_type": "code",
   "execution_count": null,
   "id": "64b7858d-84a2-4644-af6d-09da69dce82d",
   "metadata": {},
   "outputs": [],
   "source": []
  },
  {
   "cell_type": "markdown",
   "id": "d0bf44ef-5c65-41f9-b8a7-92bf42ac7a72",
   "metadata": {},
   "source": [
    "# Portfolio Analysis"
   ]
  },
  {
   "cell_type": "code",
   "execution_count": null,
   "id": "7b72e4a7-395d-4fa6-81ad-66683cedc975",
   "metadata": {},
   "outputs": [],
   "source": []
  }
 ],
 "metadata": {
  "kernelspec": {
   "display_name": "financeEnv",
   "language": "python",
   "name": "financeenv"
  },
  "language_info": {
   "codemirror_mode": {
    "name": "ipython",
    "version": 3
   },
   "file_extension": ".py",
   "mimetype": "text/x-python",
   "name": "python",
   "nbconvert_exporter": "python",
   "pygments_lexer": "ipython3",
   "version": "3.12.4"
  }
 },
 "nbformat": 4,
 "nbformat_minor": 5
}
