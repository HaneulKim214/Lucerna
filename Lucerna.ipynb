{
 "cells": [
  {
   "cell_type": "code",
   "execution_count": 1,
   "id": "79b1832e-0917-4735-8938-0bc52f0f745f",
   "metadata": {},
   "outputs": [],
   "source": [
    "import os, time\n",
    "import numpy as np\n",
    "import pandas as pd\n",
    "import plotly.graph_objects as go\n",
    "import yfinance as yf\n",
    "\n",
    "from IPython.display import Markdown, display\n",
    "from datetime import timedelta, datetime, date\n",
    "from util import validate_dates\n",
    "\n",
    "from plots import create_candlestick_chart\n",
    "from lucerna import Lucerna"
   ]
  },
  {
   "cell_type": "code",
   "execution_count": 2,
   "id": "1a34b8c2-186f-4aec-bfa8-e7829a2f68c2",
   "metadata": {},
   "outputs": [],
   "source": [
    "from dotenv import load_dotenv"
   ]
  },
  {
   "cell_type": "code",
   "execution_count": 3,
   "id": "75d0f014-3d78-484b-a36f-7ef39cbd124c",
   "metadata": {},
   "outputs": [
    {
     "data": {
      "text/plain": [
       "'0.2.59'"
      ]
     },
     "execution_count": 3,
     "metadata": {},
     "output_type": "execute_result"
    }
   ],
   "source": [
    "yf.__version__"
   ]
  },
  {
   "cell_type": "markdown",
   "id": "04b55141-f5cb-4093-b0c6-546336ff77a6",
   "metadata": {},
   "source": [
    "# One stock analysis"
   ]
  },
  {
   "cell_type": "code",
   "execution_count": 4,
   "id": "c03a0c94-d0ca-43d4-b527-165605063c5c",
   "metadata": {},
   "outputs": [
    {
     "name": "stdout",
     "output_type": "stream",
     "text": [
      "Welcome, I am Lucerna, your customized investment advisor!\n"
     ]
    },
    {
     "name": "stdin",
     "output_type": "stream",
     "text": [
      "What company would you like to know about. Provide ticker symbol: AC.TO\n"
     ]
    }
   ],
   "source": [
    "print(\"Welcome, I am Lucerna, your customized investment advisor!\")\n",
    "ticker = input(\"What company would you like to know about. Provide ticker symbol:\")"
   ]
  },
  {
   "cell_type": "markdown",
   "id": "664658a4-cacd-4025-a147-470c1de546da",
   "metadata": {},
   "source": [
    "## i) stock prices and fundamental analysis\n",
    "1. Stock price plot (5y so that user can dynamically change ranges)\n",
    "2. Basic information of stock.\n",
    "<br>2.1. History, vision, industry, service products, and future)\n",
    "<br>2.2. Fundamental analysis with competitors (EPS, marketcap, PER, inside investments, institution investments etc...). Market share.\n",
    "\n",
    "\n",
    "\n",
    "Keep on updating:\n",
    "<br>2.1. daily reading news and summarizing news related to them.\n",
    "<br>2.2. Once in a while when data changes."
   ]
  },
  {
   "cell_type": "code",
   "execution_count": null,
   "id": "81c7b116-16af-4428-8227-baea12071752",
   "metadata": {},
   "outputs": [],
   "source": [
    "# stock_price_df = yf.download([company_ticker]\n",
    "#                              ,start=start_date\n",
    "#                              ,end=end_date\n",
    "#                              ,interval='1d'\n",
    "#                              ,threads=True)\n",
    "ticker = yf.Ticker(ticker)\n",
    "stock_info = {\n",
    "    \"company_name\": ticker.info['longName']\n",
    "    ,\"country\": ticker.info['country']\n",
    "    ,\"sector\": ticker.info['sector']\n",
    "    ,\"industry\": ticker.info['industry']\n",
    "    ,\"business_summary\": ticker.info['longBusinessSummary']\n",
    "    ,\"currency\": ticker.info['financialCurrency']\n",
    "    ,\"stock_exch\": ticker.info['fullExchangeName']}"
   ]
  },
  {
   "cell_type": "code",
   "execution_count": null,
   "id": "7225a0a6-ad19-4c31-8446-95d551dd6ecb",
   "metadata": {},
   "outputs": [],
   "source": [
    "n_years = 5\n",
    "end_date = date.today()\n",
    "st_date = end_date - timedelta(days=365*n_years)\n",
    "stock_price_df = ticker.history(start=st_date, end=end_date, interval='1d')"
   ]
  },
  {
   "cell_type": "code",
   "execution_count": null,
   "id": "2453a993-9568-4808-b607-ae855e03d811",
   "metadata": {},
   "outputs": [],
   "source": [
    "# ??? How to render interative version to web...?\n",
    "\n",
    "fig_price = create_candlestick_chart(stock_price_df, ticker, portfolio_info['currency'])\n",
    "fig_price.show()\n",
    "\n",
    "print(f\"\"\"\n",
    "Company: {stock_info['company_name']} \n",
    "Sector: {stock_info['sector']}\n",
    "Industry: {stock_info['industry']}\n",
    "Currency: {stock_info['currency']}\n",
    "Traded in: {stock_info['stock_exch']}\n",
    "\n",
    "About:\n",
    "{stock_info['business_summary']}\n",
    "\"\"\")"
   ]
  },
  {
   "cell_type": "code",
   "execution_count": null,
   "id": "b33a947c-204a-437f-9833-6d5e291fb4f6",
   "metadata": {},
   "outputs": [],
   "source": [
    "lucerna = Lucerna('gemini', \"gemini-2.0-flash\")"
   ]
  },
  {
   "cell_type": "code",
   "execution_count": null,
   "id": "9cfa4017-a315-4dfe-9780-b7b22c418158",
   "metadata": {},
   "outputs": [],
   "source": [
    "resp = lucerna.explain_service(stock_info['company_name'])"
   ]
  },
  {
   "cell_type": "code",
   "execution_count": null,
   "id": "4e12bc7f-6a70-4c3d-ac13-b0f86a2ff96f",
   "metadata": {},
   "outputs": [],
   "source": [
    "display(Markdown(resp.text))"
   ]
  },
  {
   "cell_type": "code",
   "execution_count": null,
   "id": "4d7ea151-f0a6-4184-8c6d-0222fdec334f",
   "metadata": {},
   "outputs": [],
   "source": []
  },
  {
   "cell_type": "markdown",
   "id": "70b952ae-6db3-40cc-bdd8-abe274bab01b",
   "metadata": {},
   "source": [
    "OpenAI model versions: https://platform.openai.com/docs/models\n",
    "- reasoning: o3, o4-mini, etc...\n",
    "- chat: GPT-4.1, ChatGPT-4o\n",
    "- cost optimized: o4-mini, GPT-4.1 mini, GPT-4.1 nano "
   ]
  },
  {
   "cell_type": "code",
   "execution_count": 5,
   "id": "d0147347-645c-4139-ac97-457efd094039",
   "metadata": {},
   "outputs": [],
   "source": [
    "from openai import OpenAI\n",
    "client = OpenAI(api_key=os.getenv('OPENAI_API_KEY'))\n",
    "\n",
    "\n",
    "# response = client.responses.create(\n",
    "#     model=\"gpt-4.1\",\n",
    "#     # tools=[{\"type\": \"web_search_preview\"}],\n",
    "#     input=\"Write a one-sentence bedtime story about a unicorn.\"\n",
    "# )\n",
    "\n",
    "# print(response.output_text)"
   ]
  },
  {
   "cell_type": "code",
   "execution_count": 9,
   "id": "168c25b4-8541-4222-94c8-c195c3c90d1d",
   "metadata": {},
   "outputs": [
    {
     "data": {
      "text/plain": [
       "<openai.resources.models.Models at 0x12c56fd40>"
      ]
     },
     "execution_count": 9,
     "metadata": {},
     "output_type": "execute_result"
    }
   ],
   "source": [
    "client.models"
   ]
  },
  {
   "cell_type": "code",
   "execution_count": null,
   "id": "864da001-7892-449c-978f-08a87efe658c",
   "metadata": {},
   "outputs": [],
   "source": []
  },
  {
   "cell_type": "markdown",
   "id": "d0bf44ef-5c65-41f9-b8a7-92bf42ac7a72",
   "metadata": {},
   "source": [
    "# Portfolio Analysis"
   ]
  },
  {
   "cell_type": "code",
   "execution_count": null,
   "id": "7b72e4a7-395d-4fa6-81ad-66683cedc975",
   "metadata": {},
   "outputs": [],
   "source": []
  }
 ],
 "metadata": {
  "kernelspec": {
   "display_name": "financeEnv",
   "language": "python",
   "name": "financeenv"
  },
  "language_info": {
   "codemirror_mode": {
    "name": "ipython",
    "version": 3
   },
   "file_extension": ".py",
   "mimetype": "text/x-python",
   "name": "python",
   "nbconvert_exporter": "python",
   "pygments_lexer": "ipython3",
   "version": "3.12.4"
  }
 },
 "nbformat": 4,
 "nbformat_minor": 5
}
