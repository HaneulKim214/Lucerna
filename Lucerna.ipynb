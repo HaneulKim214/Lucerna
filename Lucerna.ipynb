{
 "cells": [
  {
   "cell_type": "code",
   "execution_count": 1,
   "id": "79b1832e-0917-4735-8938-0bc52f0f745f",
   "metadata": {},
   "outputs": [],
   "source": [
    "import os, time\n",
    "import numpy as np\n",
    "import pandas as pd\n",
    "import plotly.graph_objects as go\n",
    "import yfinance as yf\n",
    "\n",
    "from IPython.display import Markdown, display\n",
    "from datetime import timedelta, datetime, date\n",
    "from util import validate_dates\n",
    "\n",
    "from plots import create_candlestick_chart\n",
    "from lucerna import Lucerna"
   ]
  },
  {
   "cell_type": "code",
   "execution_count": 2,
   "id": "75d0f014-3d78-484b-a36f-7ef39cbd124c",
   "metadata": {},
   "outputs": [
    {
     "data": {
      "text/plain": [
       "'0.2.59'"
      ]
     },
     "execution_count": 2,
     "metadata": {},
     "output_type": "execute_result"
    }
   ],
   "source": [
    "yf.__version__"
   ]
  },
  {
   "cell_type": "markdown",
   "id": "04b55141-f5cb-4093-b0c6-546336ff77a6",
   "metadata": {},
   "source": [
    "# One stock analysis"
   ]
  },
  {
   "cell_type": "code",
   "execution_count": 3,
   "id": "c03a0c94-d0ca-43d4-b527-165605063c5c",
   "metadata": {},
   "outputs": [
    {
     "name": "stdout",
     "output_type": "stream",
     "text": [
      "Welcome, I am Lucerna, your customized investment advisor!\n"
     ]
    },
    {
     "name": "stdin",
     "output_type": "stream",
     "text": [
      "What company would you like to know about. Provide ticker symbol: GOOG\n"
     ]
    }
   ],
   "source": [
    "print(\"Welcome, I am Lucerna, your customized investment advisor!\")\n",
    "ticker = input(\"What company would you like to know about. Provide ticker symbol:\")"
   ]
  },
  {
   "cell_type": "markdown",
   "id": "664658a4-cacd-4025-a147-470c1de546da",
   "metadata": {},
   "source": [
    "## i) stock prices and fundamental analysis\n",
    "1. Stock price plot (5y so that user can dynamically change ranges)\n",
    "2. Basic information of stock.\n",
    "<br>2.1. History, vision, industry, service products, and future)\n",
    "<br>2.2. Fundamental analysis with competitors (EPS, marketcap, PER, inside investments, institution investments etc...). Market share.\n",
    "\n",
    "\n",
    "\n",
    "Keep on updating:\n",
    "<br>2.1. daily reading news and summarizing news related to them.\n",
    "<br>2.2. Once in a while when data changes."
   ]
  },
  {
   "cell_type": "code",
   "execution_count": 6,
   "id": "81c7b116-16af-4428-8227-baea12071752",
   "metadata": {},
   "outputs": [],
   "source": [
    "# stock_price_df = yf.download([company_ticker]\n",
    "#                              ,start=start_date\n",
    "#                              ,end=end_date\n",
    "#                              ,interval='1d'\n",
    "#                              ,threads=True)\n",
    "ticker = yf.Ticker(ticker)\n",
    "stock_info = {\n",
    "    \"company_name\": ticker.info['longName']\n",
    "    ,\"country\": ticker.info['country']\n",
    "    ,\"sector\": ticker.info['sector']\n",
    "    ,\"industry\": ticker.info['industry']\n",
    "    ,\"business_summary\": ticker.info['longBusinessSummary']\n",
    "    ,\"currency\": ticker.info['financialCurrency']\n",
    "    ,\"stock_exch\": ticker.info['fullExchangeName']}"
   ]
  },
  {
   "cell_type": "code",
   "execution_count": null,
   "id": "7225a0a6-ad19-4c31-8446-95d551dd6ecb",
   "metadata": {},
   "outputs": [],
   "source": [
    "n_years = 5\n",
    "end_date = date.today()\n",
    "st_date = end_date - timedelta(days=365*n_years)\n",
    "stock_price_df = ticker.history(start=st_date, end=end_date, interval='1d')"
   ]
  },
  {
   "cell_type": "code",
   "execution_count": null,
   "id": "2453a993-9568-4808-b607-ae855e03d811",
   "metadata": {},
   "outputs": [],
   "source": [
    "# ??? How to render interative version to web...?\n",
    "\n",
    "fig_price = create_candlestick_chart(stock_price_df, ticker, portfolio_info['currency'])\n",
    "fig_price.show()\n",
    "\n",
    "print(f\"\"\"\n",
    "Company: {stock_info['company_name']} \n",
    "Sector: {stock_info['sector']}\n",
    "Industry: {stock_info['industry']}\n",
    "Currency: {stock_info['currency']}\n",
    "Traded in: {stock_info['stock_exch']}\n",
    "\n",
    "About:\n",
    "{stock_info['business_summary']}\n",
    "\"\"\")"
   ]
  },
  {
   "cell_type": "code",
   "execution_count": 4,
   "id": "b33a947c-204a-437f-9833-6d5e291fb4f6",
   "metadata": {},
   "outputs": [
    {
     "name": "stdout",
     "output_type": "stream",
     "text": [
      "llm model successfully configured with:  gemini-2.0-flash\n"
     ]
    }
   ],
   "source": [
    "lucerna = Lucerna('gemini', \"gemini-2.0-flash\")"
   ]
  },
  {
   "cell_type": "code",
   "execution_count": 7,
   "id": "9cfa4017-a315-4dfe-9780-b7b22c418158",
   "metadata": {},
   "outputs": [],
   "source": [
    "resp = lucerna.explain_service(stock_info['company_name'])"
   ]
  },
  {
   "cell_type": "code",
   "execution_count": 8,
   "id": "4e12bc7f-6a70-4c3d-ac13-b0f86a2ff96f",
   "metadata": {},
   "outputs": [
    {
     "data": {
      "text/markdown": [
       "Okay, here's a comprehensive overview of Alphabet Inc., encompassing its services, products, and key statistics, based on the most recent publicly available data. I've prioritized using official Alphabet sources and reputable financial data providers to ensure accuracy and currency.\n",
       "\n",
       "**1. Alphabet Inc. Services and Products Overview**\n",
       "\n",
       "Alphabet Inc. operates as a holding company, with its primary subsidiary being Google. Its operations are generally categorized into Google Services, Google Cloud, and Other Bets.\n",
       "\n",
       "**A. Google Services:** This segment encompasses Alphabet's core internet products.\n",
       "\n",
       "| Service/Product           | Description                                                                                                                                                                                                                                   | Key Statistics/Metrics (Where Available)                                                                                                               |\n",
       "| ------------------------- | --------------------------------------------------------------------------------------------------------------------------------------------------------------------------------------------------------------------------------------------- | ------------------------------------------------------------------------------------------------------------------------------------------------------- |\n",
       "| **Search**                | The dominant internet search engine globally, providing information retrieval and organization.                                                                                                                                          | Market Share: Over 80% globally (Statcounter, May 2024)                                                                                              |\n",
       "| **Advertising**            | Generates revenue through online advertising, including search ads, display ads, and video ads (YouTube).                                                                                                                                       | Google Ad Revenue: $61.66 Billion (Q1 2024, Alphabet Earnings Report)                                                                                |\n",
       "| **YouTube**               | A video-sharing platform allowing users to upload, view, and share videos. Also, offering YouTube TV subscription services.                                                                                                            | YouTube Ad Revenue: $8.09 Billion (Q1 2024, Alphabet Earnings Report), YouTube Premium and Music reached over 100 million subscribers in Q1 2024. |\n",
       "| **Android**               | A mobile operating system used by a wide range of smartphone and tablet manufacturers.                                                                                                                                                  | Android Market Share: Approximately 70% globally (Statcounter, May 2024)                                                                        |\n",
       "| **Google Maps**           | A web mapping service providing directions, satellite imagery, and street views.                                                                                                                                                           | Over 1 billion monthly active users (Google Data)                                                                                                    |\n",
       "| **Google Play Store**     | A digital distribution service for Android apps, games, music, movies, and books.                                                                                                                                                             | Billions of app downloads annually (Google Data - difficult to get precise, current number due to competitive sensitivity)                            |\n",
       "| **Gmail**                 | A free email service.                                                                                                                                                                                                                        | Over 1.8 billion active Gmail users worldwide (Google Data)                                                                                        |\n",
       "| **Google Drive**          | A file storage and synchronization service.                                                                                                                                                                                                  |  Over 1 billion users (Google Data)                                                                                                             |\n",
       "| **Google Docs, Sheets, Slides** | A suite of online office productivity tools.                                                                                                                                                                                          | Hundreds of millions of users (Google Data - precise numbers not consistently released)                                                            |\n",
       "| **Google Chrome**         | A web browser.                                                                                                                                                                                                                              | Chrome Market Share: Over 60% globally (Statcounter, May 2024)                                                                                         |\n",
       "| **Google Photos**         | A photo and video sharing and storage service.                                                                                                                                                                                            | Over 1 billion users (Google Data)                                                                                                             |\n",
       "| **Hardware (Pixel, Nest)** | Includes Pixel smartphones, Nest smart home devices, and other hardware products.                                                                                                                                                           | Revenue is included within Google Services, but specific breakdowns are not regularly provided.  Competitive market.                                |\n",
       "\n",
       "**B. Google Cloud:**  This segment provides cloud computing services.\n",
       "\n",
       "| Service/Product | Description                                                                                                                                         | Key Statistics/Metrics (Where Available)                                                                                                                                                                                                                                   |\n",
       "| --------------- | --------------------------------------------------------------------------------------------------------------------------------------------------- | ------------------------------------------------------------------------------------------------------------------------------------------------------------------------------------------------------------------------------------------------------------------------- |\n",
       "| **Google Cloud Platform (GCP)** | A suite of cloud computing services, including computing, storage, networking, and data analytics.                                                                                                            | Google Cloud Revenue: $9.57 Billion (Q1 2024, Alphabet Earnings Report).  Operating Income : $0.9 Billion (Q1 2024, Alphabet Earnings Report)                                                                                                                                                                                 |\n",
       "| **Google Workspace** | A suite of cloud-based productivity and collaboration tools, including Gmail, Docs, Sheets, Slides, and Drive.                                                                                                         | Included in overall Google Cloud revenue.  Tens of millions of paying subscribers (Google Data - not a precisely updated statistic).                                                                                                                                                    |\n",
       "\n",
       "**C. Other Bets:** This segment includes Alphabet's more experimental and longer-term ventures.\n",
       "\n",
       "| Company/Project    | Description                                                                                                                               | Status/Key Developments                                                                                                                                        |\n",
       "| ------------------ | ----------------------------------------------------------------------------------------------------------------------------------------- | -------------------------------------------------------------------------------------------------------------------------------------------------------------- |\n",
       "| **Waymo**            | Developing autonomous driving technology.                                                                                                | Commercial ride-hailing service in limited areas. Expanding partnerships and technology development.                                                                   |\n",
       "| **Verily**           | Focused on life sciences and healthcare research.                                                                                          | Developing various health-related technologies and products. Partnerships with pharmaceutical and medical device companies.                                           |\n",
       "| **Calico**           | Research and development focused on aging and age-related diseases.                                                                      | Conducting research and development in the field of aging.                                                                                                      |\n",
       "| **Wing**             | Developing drone delivery technology.                                                                                                     | Operating drone delivery services in select locations.                                                                                                             |\n",
       "| **GV (Google Ventures)** | Venture capital arm investing in early-stage technology companies.                                                                     | Actively investing in a diverse range of startups.                                                                                                               |\n",
       "| **CapitalG**         | Growth equity investment fund focused on later-stage technology companies.                                                                 | Investing in established technology companies.                                                                                                                  |\n",
       "| **X (The Moonshot Factory)** | A research and development organization focused on creating breakthrough technologies.                                             | Developing various \"moonshot\" projects, including those related to energy, transportation, and other fields.                                                       |\n",
       "\n",
       "**2. Alphabet Inc. Financial Performance (Consolidated)**\n",
       "\n",
       "| Metric                | Q1 2024                 | Source                                  |\n",
       "| --------------------- | ----------------------- | --------------------------------------- |\n",
       "| Revenue               | $80.54 Billion         | Alphabet Q1 2024 Earnings Report        |\n",
       "| Net Income            | $23.66 Billion         | Alphabet Q1 2024 Earnings Report        |\n",
       "| Diluted EPS           | $1.89                  | Alphabet Q1 2024 Earnings Report        |\n",
       "| Operating Income       | $25.47 Billion           | Alphabet Q1 2024 Earnings Report        |\n",
       "\n",
       "**Recent Developments and Strategy**\n",
       "\n",
       "*   **AI Focus:**  Alphabet is heavily investing in artificial intelligence (AI) and machine learning across all its products and services.  This includes advancements in search, cloud computing, and new AI-powered features. Gemini is the latest large language model of Alphabet.\n",
       "*   **Cloud Growth:** Google Cloud is a major growth area for Alphabet, competing with Amazon Web Services (AWS) and Microsoft Azure.  The company is focused on expanding its cloud infrastructure and services.\n",
       "*   **Cost Optimization:** Alphabet is focused on improving efficiency and reducing costs across the organization.\n",
       "\n",
       "**3. Data Source Dates:**\n",
       "\n",
       "*   **Alphabet Inc. Q1 2024 Earnings Report:** April 25, 2024\n",
       "*   **Statcounter (Market Share Data):** May 2024\n",
       "*   **Google Product Pages/Information:** Accessed May 28, 2024 (Note: Specific dates of updates on Google's own product pages are often not explicitly stated, but the information reflects the current offerings.)\n",
       "\n",
       "**Important Considerations for Investors:**\n",
       "\n",
       "*   **Market Dominance:** Alphabet's dominant position in search and online advertising provides a significant competitive advantage. However, this also attracts regulatory scrutiny.\n",
       "*   **Growth Opportunities:** Google Cloud, AI, and Other Bets offer significant growth potential.\n",
       "*   **Competition:** Alphabet faces intense competition from other tech giants, including Amazon, Microsoft, Apple, and Meta.\n",
       "*   **Regulatory Risks:** Antitrust investigations and privacy regulations pose a potential risk to Alphabet's business.\n",
       "*   **Innovation:** The success of Alphabet depends on its ability to continue innovating and developing new products and services.\n",
       "\n",
       "**Disclaimer:** This information is for general informational purposes only and should not be construed as investment advice. Investing in the stock market involves risk, and you could lose money. You should conduct your own research and consult with a qualified financial advisor before making any investment decisions.\n"
      ],
      "text/plain": [
       "<IPython.core.display.Markdown object>"
      ]
     },
     "metadata": {},
     "output_type": "display_data"
    }
   ],
   "source": [
    "display(Markdown(resp.text))"
   ]
  },
  {
   "cell_type": "markdown",
   "id": "d0bf44ef-5c65-41f9-b8a7-92bf42ac7a72",
   "metadata": {},
   "source": [
    "# Portfolio Analysis"
   ]
  },
  {
   "cell_type": "code",
   "execution_count": null,
   "id": "7b72e4a7-395d-4fa6-81ad-66683cedc975",
   "metadata": {},
   "outputs": [],
   "source": []
  }
 ],
 "metadata": {
  "kernelspec": {
   "display_name": "financeEnv",
   "language": "python",
   "name": "financeenv"
  },
  "language_info": {
   "codemirror_mode": {
    "name": "ipython",
    "version": 3
   },
   "file_extension": ".py",
   "mimetype": "text/x-python",
   "name": "python",
   "nbconvert_exporter": "python",
   "pygments_lexer": "ipython3",
   "version": "3.12.4"
  }
 },
 "nbformat": 4,
 "nbformat_minor": 5
}
